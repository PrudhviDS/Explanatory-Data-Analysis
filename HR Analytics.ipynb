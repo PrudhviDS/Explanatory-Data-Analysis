{
 "cells": [
  {
   "cell_type": "markdown",
   "metadata": {},
   "source": [
    "# Problem Statement"
   ]
  },
  {
   "cell_type": "markdown",
   "metadata": {},
   "source": [
    "The objective is to use the employee's data to know the factors affecting salaries of an employee. And build a model that can predict the salaries varying with respect to considerable factors and interpret the results to find the factors which influnce the score.Data has 5000 rows and 20 features . Data contains object,integet, float type data types where the file in csv format.\n",
    "\n",
    "There are freshers and upto 6 years of experience employees in the data."
   ]
  },
  {
   "cell_type": "markdown",
   "metadata": {},
   "source": [
    "\n",
    "\n",
    "The data includes the Salaries of employees , which makes this a supervised regression machine learning task:\n",
    "\n",
    "Supervised: we have access to both the features and the target and our goal is to train a model that can learn a mapping between the two\n",
    "Regression: The Salary is target variable which is dependent.\n",
    "All other variables are Independent variables.\n",
    "\n",
    "\n",
    "Approach:\n",
    "\n",
    "\n",
    "Data exploration and data visualization for exploring each variable w.r.t salaries for both categorical and numerical variables to know the importance of the each variable.\n",
    "\n",
    "Cleaning data like handling missing values,outliers, data types etc.\n",
    "\n",
    "With below variables we can know if Gender ,Age,Base pay or any of the variable is effecting salary in a positive or a negative way with various techniques like correlation, t-test, Multicollinearity. \n",
    "\n",
    "And then bring all the variables to equal scale using feature scaling. Then split the data into train and test. Where train is to train the model and test is to test the model.\n",
    "\n",
    "Build a regression model which is best suitable for our data after analyzing data.\n",
    "\n",
    "Then use a evaluation metric for regression model adjusted R square which will evaluate our model accuracy and importance of variables.\n"
   ]
  },
  {
   "cell_type": "raw",
   "metadata": {},
   "source": [
    "# Feature Description\n",
    "\n",
    "Gender - talks of the gender - Male or female\n",
    "Business - if the person has a business or no\n",
    "Age - age of the person\n",
    "Salary - CTC of the employee\n",
    "Dependants - number of people dependant on the person\n",
    "Months - duration of the person employed with the company\n",
    "Calls - if the person has authority to make calls or not\n",
    "Type - salary settlement type\n",
    "Billing - Subscribed to billing plans or no\n",
    "Unit sales - unit sale made by the person\n",
    "Total sales - total sales made by the person\n",
    "Rating - If he has been given a rating by a superior or no\n",
    "Bonus - amount received by a person as bonus for sales\n",
    "Base pay - Base pay of the employee\n",
    "Unit price - The Unit price of a sale\n",
    "Volume - volume allotted to a person\n",
    "Opening balance - The opening balance of an employee\n",
    "Low - lowest balance allotted to a person.\n",
    "Closing Balance- The closing balance of an employee\n",
    "Education- Educational background of an employee"
   ]
  },
  {
   "cell_type": "code",
   "execution_count": 1,
   "metadata": {},
   "outputs": [],
   "source": [
    "#importing libraries\n",
    "import numpy as np\n",
    "import pandas as pd\n",
    "import matplotlib.pyplot as plt\n",
    "import seaborn as sns"
   ]
  },
  {
   "cell_type": "code",
   "execution_count": 2,
   "metadata": {},
   "outputs": [],
   "source": [
    "#importing csv file\n",
    "df= pd.read_csv('D:\\DATA SCIENCE\\Odin schools\\Capstone\\\\New_data_Set.csv')"
   ]
  },
  {
   "cell_type": "markdown",
   "metadata": {},
   "source": [
    "# Data Exploration"
   ]
  },
  {
   "cell_type": "code",
   "execution_count": 3,
   "metadata": {},
   "outputs": [
    {
     "data": {
      "text/html": [
       "<div>\n",
       "<style scoped>\n",
       "    .dataframe tbody tr th:only-of-type {\n",
       "        vertical-align: middle;\n",
       "    }\n",
       "\n",
       "    .dataframe tbody tr th {\n",
       "        vertical-align: top;\n",
       "    }\n",
       "\n",
       "    .dataframe thead th {\n",
       "        text-align: right;\n",
       "    }\n",
       "</style>\n",
       "<table border=\"1\" class=\"dataframe\">\n",
       "  <thead>\n",
       "    <tr style=\"text-align: right;\">\n",
       "      <th></th>\n",
       "      <th>Gender</th>\n",
       "      <th>Business</th>\n",
       "      <th>Dependancies</th>\n",
       "      <th>Calls</th>\n",
       "      <th>Type</th>\n",
       "      <th>Billing</th>\n",
       "      <th>Rating</th>\n",
       "      <th>Age</th>\n",
       "      <th>Salary</th>\n",
       "      <th>Base_pay</th>\n",
       "      <th>Bonus</th>\n",
       "      <th>Unit_Price</th>\n",
       "      <th>Volume</th>\n",
       "      <th>openingbalance</th>\n",
       "      <th>closingbalance</th>\n",
       "      <th>low</th>\n",
       "      <th>Unit_Sales</th>\n",
       "      <th>Total_Sales</th>\n",
       "      <th>Months</th>\n",
       "      <th>Education</th>\n",
       "    </tr>\n",
       "  </thead>\n",
       "  <tbody>\n",
       "    <tr>\n",
       "      <th>0</th>\n",
       "      <td>Female</td>\n",
       "      <td>0</td>\n",
       "      <td>No</td>\n",
       "      <td>Yes</td>\n",
       "      <td>Month-to-month</td>\n",
       "      <td>No</td>\n",
       "      <td>Yes</td>\n",
       "      <td>18</td>\n",
       "      <td>5089.00</td>\n",
       "      <td>2035.600</td>\n",
       "      <td>254.4500</td>\n",
       "      <td>3.77</td>\n",
       "      <td>21226600</td>\n",
       "      <td>3.75</td>\n",
       "      <td>3.76</td>\n",
       "      <td>3.65</td>\n",
       "      <td>18.25</td>\n",
       "      <td>18.8</td>\n",
       "      <td>0</td>\n",
       "      <td>High School or less</td>\n",
       "    </tr>\n",
       "    <tr>\n",
       "      <th>1</th>\n",
       "      <td>Female</td>\n",
       "      <td>0</td>\n",
       "      <td>No</td>\n",
       "      <td>Yes</td>\n",
       "      <td>Month-to-month</td>\n",
       "      <td>No</td>\n",
       "      <td>Yes</td>\n",
       "      <td>19</td>\n",
       "      <td>5698.12</td>\n",
       "      <td>2279.248</td>\n",
       "      <td>284.9060</td>\n",
       "      <td>3.74</td>\n",
       "      <td>10462800</td>\n",
       "      <td>3.85</td>\n",
       "      <td>3.68</td>\n",
       "      <td>3.65</td>\n",
       "      <td>18.40</td>\n",
       "      <td>18.85</td>\n",
       "      <td>0</td>\n",
       "      <td>High School or less</td>\n",
       "    </tr>\n",
       "    <tr>\n",
       "      <th>2</th>\n",
       "      <td>Male</td>\n",
       "      <td>0</td>\n",
       "      <td>No</td>\n",
       "      <td>Yes</td>\n",
       "      <td>Month-to-month</td>\n",
       "      <td>Yes</td>\n",
       "      <td>No</td>\n",
       "      <td>22</td>\n",
       "      <td>5896.65</td>\n",
       "      <td>2358.660</td>\n",
       "      <td>294.8325</td>\n",
       "      <td>3.89</td>\n",
       "      <td>18761000</td>\n",
       "      <td>4.23</td>\n",
       "      <td>4.29</td>\n",
       "      <td>3.72</td>\n",
       "      <td>18.70</td>\n",
       "      <td>18.9</td>\n",
       "      <td>0</td>\n",
       "      <td>High School or less</td>\n",
       "    </tr>\n",
       "    <tr>\n",
       "      <th>3</th>\n",
       "      <td>Female</td>\n",
       "      <td>1</td>\n",
       "      <td>No</td>\n",
       "      <td>Yes</td>\n",
       "      <td>Month-to-month</td>\n",
       "      <td>Yes</td>\n",
       "      <td>Yes</td>\n",
       "      <td>21</td>\n",
       "      <td>6125.12</td>\n",
       "      <td>2450.048</td>\n",
       "      <td>306.2560</td>\n",
       "      <td>4.35</td>\n",
       "      <td>66130600</td>\n",
       "      <td>4.26</td>\n",
       "      <td>4.31</td>\n",
       "      <td>3.83</td>\n",
       "      <td>18.75</td>\n",
       "      <td>19</td>\n",
       "      <td>0</td>\n",
       "      <td>High School or less</td>\n",
       "    </tr>\n",
       "    <tr>\n",
       "      <th>4</th>\n",
       "      <td>Male</td>\n",
       "      <td>0</td>\n",
       "      <td>No</td>\n",
       "      <td>Yes</td>\n",
       "      <td>Month-to-month</td>\n",
       "      <td>Yes</td>\n",
       "      <td>Yes</td>\n",
       "      <td>23</td>\n",
       "      <td>6245.00</td>\n",
       "      <td>2498.000</td>\n",
       "      <td>312.2500</td>\n",
       "      <td>4.34</td>\n",
       "      <td>26868200</td>\n",
       "      <td>4.79</td>\n",
       "      <td>4.41</td>\n",
       "      <td>4.08</td>\n",
       "      <td>18.80</td>\n",
       "      <td>19.05</td>\n",
       "      <td>1</td>\n",
       "      <td>High School or less</td>\n",
       "    </tr>\n",
       "  </tbody>\n",
       "</table>\n",
       "</div>"
      ],
      "text/plain": [
       "   Gender  Business Dependancies Calls            Type Billing Rating  Age  \\\n",
       "0  Female         0           No   Yes  Month-to-month      No    Yes   18   \n",
       "1  Female         0           No   Yes  Month-to-month      No    Yes   19   \n",
       "2    Male         0           No   Yes  Month-to-month     Yes     No   22   \n",
       "3  Female         1           No   Yes  Month-to-month     Yes    Yes   21   \n",
       "4    Male         0           No   Yes  Month-to-month     Yes    Yes   23   \n",
       "\n",
       "    Salary  Base_pay     Bonus  Unit_Price    Volume  openingbalance  \\\n",
       "0  5089.00  2035.600  254.4500        3.77  21226600            3.75   \n",
       "1  5698.12  2279.248  284.9060        3.74  10462800            3.85   \n",
       "2  5896.65  2358.660  294.8325        3.89  18761000            4.23   \n",
       "3  6125.12  2450.048  306.2560        4.35  66130600            4.26   \n",
       "4  6245.00  2498.000  312.2500        4.34  26868200            4.79   \n",
       "\n",
       "   closingbalance   low  Unit_Sales Total_Sales  Months            Education  \n",
       "0            3.76  3.65       18.25        18.8       0  High School or less  \n",
       "1            3.68  3.65       18.40       18.85       0  High School or less  \n",
       "2            4.29  3.72       18.70        18.9       0  High School or less  \n",
       "3            4.31  3.83       18.75          19       0  High School or less  \n",
       "4            4.41  4.08       18.80       19.05       1  High School or less  "
      ]
     },
     "execution_count": 3,
     "metadata": {},
     "output_type": "execute_result"
    }
   ],
   "source": [
    "#head of data gives first 5 rows\n",
    "df.head()"
   ]
  },
  {
   "cell_type": "code",
   "execution_count": 4,
   "metadata": {
    "scrolled": true
   },
   "outputs": [
    {
     "data": {
      "text/html": [
       "<div>\n",
       "<style scoped>\n",
       "    .dataframe tbody tr th:only-of-type {\n",
       "        vertical-align: middle;\n",
       "    }\n",
       "\n",
       "    .dataframe tbody tr th {\n",
       "        vertical-align: top;\n",
       "    }\n",
       "\n",
       "    .dataframe thead th {\n",
       "        text-align: right;\n",
       "    }\n",
       "</style>\n",
       "<table border=\"1\" class=\"dataframe\">\n",
       "  <thead>\n",
       "    <tr style=\"text-align: right;\">\n",
       "      <th></th>\n",
       "      <th>Gender</th>\n",
       "      <th>Business</th>\n",
       "      <th>Dependancies</th>\n",
       "      <th>Calls</th>\n",
       "      <th>Type</th>\n",
       "      <th>Billing</th>\n",
       "      <th>Rating</th>\n",
       "      <th>Age</th>\n",
       "      <th>Salary</th>\n",
       "      <th>Base_pay</th>\n",
       "      <th>Bonus</th>\n",
       "      <th>Unit_Price</th>\n",
       "      <th>Volume</th>\n",
       "      <th>openingbalance</th>\n",
       "      <th>closingbalance</th>\n",
       "      <th>low</th>\n",
       "      <th>Unit_Sales</th>\n",
       "      <th>Total_Sales</th>\n",
       "      <th>Months</th>\n",
       "      <th>Education</th>\n",
       "    </tr>\n",
       "  </thead>\n",
       "  <tbody>\n",
       "    <tr>\n",
       "      <th>4995</th>\n",
       "      <td>Female</td>\n",
       "      <td>0</td>\n",
       "      <td>No</td>\n",
       "      <td>Yes</td>\n",
       "      <td>Month-to-month</td>\n",
       "      <td>No</td>\n",
       "      <td>No</td>\n",
       "      <td>72</td>\n",
       "      <td>180696.80</td>\n",
       "      <td>72278.720</td>\n",
       "      <td>9034.840</td>\n",
       "      <td>629.511067</td>\n",
       "      <td>3927000</td>\n",
       "      <td>NaN</td>\n",
       "      <td>293.838840</td>\n",
       "      <td>310.955001</td>\n",
       "      <td>117.80</td>\n",
       "      <td></td>\n",
       "      <td>72</td>\n",
       "      <td>PG</td>\n",
       "    </tr>\n",
       "    <tr>\n",
       "      <th>4996</th>\n",
       "      <td>Male</td>\n",
       "      <td>0</td>\n",
       "      <td>No</td>\n",
       "      <td>Yes</td>\n",
       "      <td>Month-to-month</td>\n",
       "      <td>Yes</td>\n",
       "      <td>No</td>\n",
       "      <td>73</td>\n",
       "      <td>185685.90</td>\n",
       "      <td>74274.360</td>\n",
       "      <td>9284.295</td>\n",
       "      <td>627.841071</td>\n",
       "      <td>6031900</td>\n",
       "      <td>NaN</td>\n",
       "      <td>301.311314</td>\n",
       "      <td>309.610028</td>\n",
       "      <td>118.60</td>\n",
       "      <td></td>\n",
       "      <td>72</td>\n",
       "      <td>PG</td>\n",
       "    </tr>\n",
       "    <tr>\n",
       "      <th>4997</th>\n",
       "      <td>Male</td>\n",
       "      <td>0</td>\n",
       "      <td>No</td>\n",
       "      <td>Yes</td>\n",
       "      <td>Month-to-month</td>\n",
       "      <td>Yes</td>\n",
       "      <td>No</td>\n",
       "      <td>74</td>\n",
       "      <td>192636.80</td>\n",
       "      <td>77054.720</td>\n",
       "      <td>9631.840</td>\n",
       "      <td>625.860033</td>\n",
       "      <td>7949400</td>\n",
       "      <td>NaN</td>\n",
       "      <td>306.040009</td>\n",
       "      <td>303.483494</td>\n",
       "      <td>118.60</td>\n",
       "      <td></td>\n",
       "      <td>72</td>\n",
       "      <td>PG</td>\n",
       "    </tr>\n",
       "    <tr>\n",
       "      <th>4998</th>\n",
       "      <td>Male</td>\n",
       "      <td>1</td>\n",
       "      <td>No</td>\n",
       "      <td>Yes</td>\n",
       "      <td>Month-to-month</td>\n",
       "      <td>Yes</td>\n",
       "      <td>Yes</td>\n",
       "      <td>74</td>\n",
       "      <td>195970.70</td>\n",
       "      <td>78388.280</td>\n",
       "      <td>9798.535</td>\n",
       "      <td>629.510005</td>\n",
       "      <td>3908400</td>\n",
       "      <td>NaN</td>\n",
       "      <td>308.579987</td>\n",
       "      <td>312.432438</td>\n",
       "      <td>118.65</td>\n",
       "      <td></td>\n",
       "      <td>72</td>\n",
       "      <td>PG</td>\n",
       "    </tr>\n",
       "    <tr>\n",
       "      <th>4999</th>\n",
       "      <td>Male</td>\n",
       "      <td>0</td>\n",
       "      <td>Yes</td>\n",
       "      <td>Yes</td>\n",
       "      <td>Two year</td>\n",
       "      <td>Yes</td>\n",
       "      <td>No</td>\n",
       "      <td>88</td>\n",
       "      <td>199970.74</td>\n",
       "      <td>79988.296</td>\n",
       "      <td>9998.537</td>\n",
       "      <td>627.839984</td>\n",
       "      <td>6003300</td>\n",
       "      <td>NaN</td>\n",
       "      <td>312.307316</td>\n",
       "      <td>311.081089</td>\n",
       "      <td>118.75</td>\n",
       "      <td></td>\n",
       "      <td>72</td>\n",
       "      <td>PG</td>\n",
       "    </tr>\n",
       "  </tbody>\n",
       "</table>\n",
       "</div>"
      ],
      "text/plain": [
       "      Gender  Business Dependancies Calls            Type Billing Rating  Age  \\\n",
       "4995  Female         0           No   Yes  Month-to-month      No     No   72   \n",
       "4996    Male         0           No   Yes  Month-to-month     Yes     No   73   \n",
       "4997    Male         0           No   Yes  Month-to-month     Yes     No   74   \n",
       "4998    Male         1           No   Yes  Month-to-month     Yes    Yes   74   \n",
       "4999    Male         0          Yes   Yes        Two year     Yes     No   88   \n",
       "\n",
       "         Salary   Base_pay     Bonus  Unit_Price   Volume  openingbalance  \\\n",
       "4995  180696.80  72278.720  9034.840  629.511067  3927000             NaN   \n",
       "4996  185685.90  74274.360  9284.295  627.841071  6031900             NaN   \n",
       "4997  192636.80  77054.720  9631.840  625.860033  7949400             NaN   \n",
       "4998  195970.70  78388.280  9798.535  629.510005  3908400             NaN   \n",
       "4999  199970.74  79988.296  9998.537  627.839984  6003300             NaN   \n",
       "\n",
       "      closingbalance         low  Unit_Sales Total_Sales  Months Education  \n",
       "4995      293.838840  310.955001      117.80                  72        PG  \n",
       "4996      301.311314  309.610028      118.60                  72        PG  \n",
       "4997      306.040009  303.483494      118.60                  72        PG  \n",
       "4998      308.579987  312.432438      118.65                  72        PG  \n",
       "4999      312.307316  311.081089      118.75                  72        PG  "
      ]
     },
     "execution_count": 4,
     "metadata": {},
     "output_type": "execute_result"
    }
   ],
   "source": [
    "#last rows of data gives last five rows\n",
    "df.tail()"
   ]
  },
  {
   "cell_type": "markdown",
   "metadata": {},
   "source": [
    "We can see from head and tail of data that our data is loaded as expected and with a proper column names and values."
   ]
  },
  {
   "cell_type": "code",
   "execution_count": 5,
   "metadata": {},
   "outputs": [
    {
     "name": "stdout",
     "output_type": "stream",
     "text": [
      "<class 'pandas.core.frame.DataFrame'>\n",
      "RangeIndex: 5000 entries, 0 to 4999\n",
      "Data columns (total 20 columns):\n",
      " #   Column          Non-Null Count  Dtype  \n",
      "---  ------          --------------  -----  \n",
      " 0   Gender          5000 non-null   object \n",
      " 1   Business        5000 non-null   int64  \n",
      " 2   Dependancies    5000 non-null   object \n",
      " 3   Calls           5000 non-null   object \n",
      " 4   Type            5000 non-null   object \n",
      " 5   Billing         5000 non-null   object \n",
      " 6   Rating          5000 non-null   object \n",
      " 7   Age             5000 non-null   int64  \n",
      " 8   Salary          5000 non-null   float64\n",
      " 9   Base_pay        4977 non-null   float64\n",
      " 10  Bonus           5000 non-null   float64\n",
      " 11  Unit_Price      5000 non-null   float64\n",
      " 12  Volume          5000 non-null   int64  \n",
      " 13  openingbalance  3524 non-null   float64\n",
      " 14  closingbalance  5000 non-null   float64\n",
      " 15  low             5000 non-null   float64\n",
      " 16  Unit_Sales      5000 non-null   float64\n",
      " 17  Total_Sales     4992 non-null   object \n",
      " 18  Months          5000 non-null   int64  \n",
      " 19  Education       5000 non-null   object \n",
      "dtypes: float64(8), int64(4), object(8)\n",
      "memory usage: 625.1+ KB\n"
     ]
    }
   ],
   "source": [
    "#data and each column information like data types and rows.\n",
    "df.info()"
   ]
  },
  {
   "cell_type": "code",
   "execution_count": 6,
   "metadata": {},
   "outputs": [
    {
     "data": {
      "text/plain": [
       "(5000, 20)"
      ]
     },
     "execution_count": 6,
     "metadata": {},
     "output_type": "execute_result"
    }
   ],
   "source": [
    "df.shape"
   ]
  },
  {
   "cell_type": "markdown",
   "metadata": {},
   "source": [
    "Data has 5000 rows and 20 features . Data contains object,integet, float type data types. Business is categorical variable in binary, represented as integer. Total sales is a continuos data where it is represented as object. "
   ]
  },
  {
   "cell_type": "markdown",
   "metadata": {},
   "source": [
    "# Missing values"
   ]
  },
  {
   "cell_type": "code",
   "execution_count": 7,
   "metadata": {},
   "outputs": [
    {
     "data": {
      "text/plain": [
       "Gender               0\n",
       "Business             0\n",
       "Dependancies         0\n",
       "Calls                0\n",
       "Type                 0\n",
       "Billing              0\n",
       "Rating               0\n",
       "Age                  0\n",
       "Salary               0\n",
       "Base_pay            23\n",
       "Bonus                0\n",
       "Unit_Price           0\n",
       "Volume               0\n",
       "openingbalance    1476\n",
       "closingbalance       0\n",
       "low                  0\n",
       "Unit_Sales           0\n",
       "Total_Sales          8\n",
       "Months               0\n",
       "Education            0\n",
       "dtype: int64"
      ]
     },
     "execution_count": 7,
     "metadata": {},
     "output_type": "execute_result"
    }
   ],
   "source": [
    "#missing values in data\n",
    "df.isnull().sum()"
   ]
  },
  {
   "cell_type": "markdown",
   "metadata": {},
   "source": [
    "Data contains missing values in Base_pay,openingbalance,Total_Sales."
   ]
  },
  {
   "cell_type": "code",
   "execution_count": 8,
   "metadata": {},
   "outputs": [
    {
     "data": {
      "text/plain": [
       "Gender             0.00\n",
       "Business           0.00\n",
       "Dependancies       0.00\n",
       "Calls              0.00\n",
       "Type               0.00\n",
       "Billing            0.00\n",
       "Rating             0.00\n",
       "Age                0.00\n",
       "Salary             0.00\n",
       "Base_pay           0.46\n",
       "Bonus              0.00\n",
       "Unit_Price         0.00\n",
       "Volume             0.00\n",
       "openingbalance    29.52\n",
       "closingbalance     0.00\n",
       "low                0.00\n",
       "Unit_Sales         0.00\n",
       "Total_Sales        0.16\n",
       "Months             0.00\n",
       "Education          0.00\n",
       "dtype: float64"
      ]
     },
     "execution_count": 8,
     "metadata": {},
     "output_type": "execute_result"
    }
   ],
   "source": [
    "#percentage of missing values in each column\n",
    "df.isna().sum()/len(df)*100 "
   ]
  },
  {
   "cell_type": "markdown",
   "metadata": {},
   "source": [
    "Base_pay and Total_Sales has very low missing values and can be treated. But opening balance has very high missing data and since the data we have is small dropping could be better way of opening balance."
   ]
  },
  {
   "cell_type": "code",
   "execution_count": 9,
   "metadata": {},
   "outputs": [
    {
     "data": {
      "text/plain": [
       "<matplotlib.axes._subplots.AxesSubplot at 0xdb08b20>"
      ]
     },
     "execution_count": 9,
     "metadata": {},
     "output_type": "execute_result"
    },
    {
     "data": {
      "image/png": "[encoded data removed]",
      "text/plain": [
       "<Figure size 1800x720 with 3 Axes>"
      ]
     },
     "metadata": {
      "needs_background": "light"
     },
     "output_type": "display_data"
    }
   ],
   "source": [
    "import missingno as msno # importing missingno from msno to visualize missing values.\n",
    "\n",
    "msno.bar(df)"
   ]
  },
  {
   "cell_type": "code",
   "execution_count": 10,
   "metadata": {},
   "outputs": [
    {
     "data": {
      "text/plain": [
       "<matplotlib.axes._subplots.AxesSubplot at 0xed49910>"
      ]
     },
     "execution_count": 10,
     "metadata": {},
     "output_type": "execute_result"
    },
    {
     "data": {
      "image/png": "[encoded data removed]",
      "text/plain": [
       "<Figure size 1440x864 with 2 Axes>"
      ]
     },
     "metadata": {
      "needs_background": "light"
     },
     "output_type": "display_data"
    }
   ],
   "source": [
    "msno.heatmap(df)"
   ]
  },
  {
   "cell_type": "markdown",
   "metadata": {},
   "source": [
    "The heatmap is used to identify correlations of the nullity between each of the different columns.But as we can see values are close to 0 we can conclude that missing values in one variable does not depends on other variables."
   ]
  },
  {
   "cell_type": "code",
   "execution_count": 11,
   "metadata": {},
   "outputs": [
    {
     "data": {
      "text/html": [
       "<div>\n",
       "<style scoped>\n",
       "    .dataframe tbody tr th:only-of-type {\n",
       "        vertical-align: middle;\n",
       "    }\n",
       "\n",
       "    .dataframe tbody tr th {\n",
       "        vertical-align: top;\n",
       "    }\n",
       "\n",
       "    .dataframe thead th {\n",
       "        text-align: right;\n",
       "    }\n",
       "</style>\n",
       "<table border=\"1\" class=\"dataframe\">\n",
       "  <thead>\n",
       "    <tr style=\"text-align: right;\">\n",
       "      <th></th>\n",
       "      <th>Business</th>\n",
       "      <th>Age</th>\n",
       "      <th>Salary</th>\n",
       "      <th>Base_pay</th>\n",
       "      <th>Bonus</th>\n",
       "      <th>Unit_Price</th>\n",
       "      <th>Volume</th>\n",
       "      <th>openingbalance</th>\n",
       "      <th>closingbalance</th>\n",
       "      <th>low</th>\n",
       "      <th>Unit_Sales</th>\n",
       "      <th>Months</th>\n",
       "    </tr>\n",
       "  </thead>\n",
       "  <tbody>\n",
       "    <tr>\n",
       "      <th>count</th>\n",
       "      <td>5000.000000</td>\n",
       "      <td>5000.000000</td>\n",
       "      <td>5000.000000</td>\n",
       "      <td>4977.000000</td>\n",
       "      <td>5000.000000</td>\n",
       "      <td>5000.000000</td>\n",
       "      <td>5.000000e+03</td>\n",
       "      <td>3524.000000</td>\n",
       "      <td>5000.000000</td>\n",
       "      <td>5000.000000</td>\n",
       "      <td>5000.00000</td>\n",
       "      <td>5000.00000</td>\n",
       "    </tr>\n",
       "    <tr>\n",
       "      <th>mean</th>\n",
       "      <td>0.160000</td>\n",
       "      <td>51.865000</td>\n",
       "      <td>99821.928553</td>\n",
       "      <td>40046.187707</td>\n",
       "      <td>4991.096428</td>\n",
       "      <td>51.258522</td>\n",
       "      <td>6.761260e+06</td>\n",
       "      <td>43.922020</td>\n",
       "      <td>43.577828</td>\n",
       "      <td>43.034129</td>\n",
       "      <td>64.84151</td>\n",
       "      <td>32.18480</td>\n",
       "    </tr>\n",
       "    <tr>\n",
       "      <th>std</th>\n",
       "      <td>0.366643</td>\n",
       "      <td>8.560691</td>\n",
       "      <td>25376.961744</td>\n",
       "      <td>10135.686075</td>\n",
       "      <td>1268.848087</td>\n",
       "      <td>52.244022</td>\n",
       "      <td>1.620476e+07</td>\n",
       "      <td>38.361497</td>\n",
       "      <td>37.148512</td>\n",
       "      <td>36.760641</td>\n",
       "      <td>30.13968</td>\n",
       "      <td>24.63673</td>\n",
       "    </tr>\n",
       "    <tr>\n",
       "      <th>min</th>\n",
       "      <td>0.000000</td>\n",
       "      <td>18.000000</td>\n",
       "      <td>5089.000000</td>\n",
       "      <td>2035.600000</td>\n",
       "      <td>254.450000</td>\n",
       "      <td>1.440000</td>\n",
       "      <td>0.000000e+00</td>\n",
       "      <td>3.680000</td>\n",
       "      <td>3.680000</td>\n",
       "      <td>3.650000</td>\n",
       "      <td>18.25000</td>\n",
       "      <td>0.00000</td>\n",
       "    </tr>\n",
       "    <tr>\n",
       "      <th>25%</th>\n",
       "      <td>0.000000</td>\n",
       "      <td>47.000000</td>\n",
       "      <td>83890.338980</td>\n",
       "      <td>33720.552420</td>\n",
       "      <td>4194.516950</td>\n",
       "      <td>25.727500</td>\n",
       "      <td>1.283850e+06</td>\n",
       "      <td>22.098750</td>\n",
       "      <td>21.990000</td>\n",
       "      <td>21.718750</td>\n",
       "      <td>35.50000</td>\n",
       "      <td>8.00000</td>\n",
       "    </tr>\n",
       "    <tr>\n",
       "      <th>50%</th>\n",
       "      <td>0.000000</td>\n",
       "      <td>52.000000</td>\n",
       "      <td>100579.378500</td>\n",
       "      <td>40282.016040</td>\n",
       "      <td>5028.968925</td>\n",
       "      <td>39.205000</td>\n",
       "      <td>2.870600e+06</td>\n",
       "      <td>33.119999</td>\n",
       "      <td>33.340000</td>\n",
       "      <td>32.880001</td>\n",
       "      <td>70.50000</td>\n",
       "      <td>28.00000</td>\n",
       "    </tr>\n",
       "    <tr>\n",
       "      <th>75%</th>\n",
       "      <td>0.000000</td>\n",
       "      <td>57.000000</td>\n",
       "      <td>116912.092475</td>\n",
       "      <td>46792.232410</td>\n",
       "      <td>5845.604624</td>\n",
       "      <td>58.715000</td>\n",
       "      <td>6.247100e+06</td>\n",
       "      <td>51.421839</td>\n",
       "      <td>51.117500</td>\n",
       "      <td>50.415000</td>\n",
       "      <td>89.95000</td>\n",
       "      <td>55.00000</td>\n",
       "    </tr>\n",
       "    <tr>\n",
       "      <th>max</th>\n",
       "      <td>1.000000</td>\n",
       "      <td>88.000000</td>\n",
       "      <td>199970.740000</td>\n",
       "      <td>79988.296000</td>\n",
       "      <td>9998.537000</td>\n",
       "      <td>629.511067</td>\n",
       "      <td>3.208684e+08</td>\n",
       "      <td>313.903904</td>\n",
       "      <td>313.688694</td>\n",
       "      <td>312.432438</td>\n",
       "      <td>118.75000</td>\n",
       "      <td>72.00000</td>\n",
       "    </tr>\n",
       "  </tbody>\n",
       "</table>\n",
       "</div>"
      ],
      "text/plain": [
       "          Business          Age         Salary      Base_pay        Bonus  \\\n",
       "count  5000.000000  5000.000000    5000.000000   4977.000000  5000.000000   \n",
       "mean      0.160000    51.865000   99821.928553  40046.187707  4991.096428   \n",
       "std       0.366643     8.560691   25376.961744  10135.686075  1268.848087   \n",
       "min       0.000000    18.000000    5089.000000   2035.600000   254.450000   \n",
       "25%       0.000000    47.000000   83890.338980  33720.552420  4194.516950   \n",
       "50%       0.000000    52.000000  100579.378500  40282.016040  5028.968925   \n",
       "75%       0.000000    57.000000  116912.092475  46792.232410  5845.604624   \n",
       "max       1.000000    88.000000  199970.740000  79988.296000  9998.537000   \n",
       "\n",
       "        Unit_Price        Volume  openingbalance  closingbalance          low  \\\n",
       "count  5000.000000  5.000000e+03     3524.000000     5000.000000  5000.000000   \n",
       "mean     51.258522  6.761260e+06       43.922020       43.577828    43.034129   \n",
       "std      52.244022  1.620476e+07       38.361497       37.148512    36.760641   \n",
       "min       1.440000  0.000000e+00        3.680000        3.680000     3.650000   \n",
       "25%      25.727500  1.283850e+06       22.098750       21.990000    21.718750   \n",
       "50%      39.205000  2.870600e+06       33.119999       33.340000    32.880001   \n",
       "75%      58.715000  6.247100e+06       51.421839       51.117500    50.415000   \n",
       "max     629.511067  3.208684e+08      313.903904      313.688694   312.432438   \n",
       "\n",
       "       Unit_Sales      Months  \n",
       "count  5000.00000  5000.00000  \n",
       "mean     64.84151    32.18480  \n",
       "std      30.13968    24.63673  \n",
       "min      18.25000     0.00000  \n",
       "25%      35.50000     8.00000  \n",
       "50%      70.50000    28.00000  \n",
       "75%      89.95000    55.00000  \n",
       "max     118.75000    72.00000  "
      ]
     },
     "execution_count": 11,
     "metadata": {},
     "output_type": "execute_result"
    }
   ],
   "source": [
    "#statistical description of the data\n",
    "df.describe()"
   ]
  },
  {
   "cell_type": "markdown",
   "metadata": {},
   "source": [
    "Comparing to mean of most of columns max value is very high. So there could be outliers in the data. Also we can observe Opening balance and closing balance has equal values as min max and mean, almost equal standard deviation. "
   ]
  },
  {
   "cell_type": "code",
   "execution_count": 12,
   "metadata": {},
   "outputs": [
    {
     "data": {
      "text/plain": [
       "Gender               2\n",
       "Business             2\n",
       "Dependancies         2\n",
       "Calls                2\n",
       "Type                 3\n",
       "Billing              2\n",
       "Rating               2\n",
       "Age                 65\n",
       "Salary            5000\n",
       "Base_pay          4883\n",
       "Bonus             5000\n",
       "Unit_Price        3836\n",
       "Volume            4831\n",
       "openingbalance    2986\n",
       "closingbalance    4011\n",
       "low               4014\n",
       "Unit_Sales        1434\n",
       "Total_Sales       4706\n",
       "Months              73\n",
       "Education            4\n",
       "dtype: int64"
      ]
     },
     "execution_count": 12,
     "metadata": {},
     "output_type": "execute_result"
    }
   ],
   "source": [
    "#unique values in each column\n",
    "df.nunique()"
   ]
  },
  {
   "cell_type": "code",
   "execution_count": 13,
   "metadata": {},
   "outputs": [
    {
     "data": {
      "text/plain": [
       "array([ 0,  1,  2,  3,  4,  5,  6,  7,  8,  9, 10, 11, 12, 13, 14, 15, 16,\n",
       "       17, 18, 19, 20, 21, 22, 23, 24, 25, 26, 27, 28, 29, 30, 31, 32, 33,\n",
       "       34, 35, 36, 37, 38, 39, 40, 41, 42, 43, 44, 45, 46, 47, 48, 49, 50,\n",
       "       51, 52, 53, 54, 55, 56, 57, 58, 59, 60, 61, 62, 63, 64, 65, 66, 67,\n",
       "       68, 69, 70, 71, 72], dtype=int64)"
      ]
     },
     "execution_count": 13,
     "metadata": {},
     "output_type": "execute_result"
    }
   ],
   "source": [
    "#Experience of employees\n",
    "df['Months'].unique()"
   ]
  },
  {
   "cell_type": "markdown",
   "metadata": {},
   "source": [
    "There are freshers and upto 6 years of experience employees in the data"
   ]
  },
  {
   "cell_type": "code",
   "execution_count": 14,
   "metadata": {},
   "outputs": [
    {
     "data": {
      "text/plain": [
       "Male      2528\n",
       "Female    2472\n",
       "Name: Gender, dtype: int64"
      ]
     },
     "execution_count": 14,
     "metadata": {},
     "output_type": "execute_result"
    }
   ],
   "source": [
    "df['Gender'].value_counts()"
   ]
  },
  {
   "cell_type": "markdown",
   "metadata": {},
   "source": [
    "The data contains male employees slightly higher than Female employees"
   ]
  },
  {
   "cell_type": "code",
   "execution_count": 15,
   "metadata": {},
   "outputs": [
    {
     "data": {
      "text/plain": [
       "Text(0, 0.5, 'Count')"
      ]
     },
     "execution_count": 15,
     "metadata": {},
     "output_type": "execute_result"
    },
    {
     "data": {
      "image/png": "[encoded data removed]",
      "text/plain": [
       "<Figure size 360x288 with 1 Axes>"
      ]
     },
     "metadata": {
      "needs_background": "light"
     },
     "output_type": "display_data"
    }
   ],
   "source": [
    "#bar plot on Gender\n",
    "df['Gender'].value_counts().plot(kind='bar',\n",
    "                                    figsize=(5,4),\n",
    "                                    title=\"No of Employees classified by Gender\")\n",
    "plt.xlabel(\"Gender\")\n",
    "plt.ylabel(\"Count\")"
   ]
  },
  {
   "cell_type": "markdown",
   "metadata": {},
   "source": [
    "This bar plot shows the gender equality in the company\n"
   ]
  },
  {
   "cell_type": "code",
   "execution_count": 16,
   "metadata": {},
   "outputs": [
    {
     "data": {
      "text/plain": [
       "0    4200\n",
       "1     800\n",
       "Name: Business, dtype: int64"
      ]
     },
     "execution_count": 16,
     "metadata": {},
     "output_type": "execute_result"
    }
   ],
   "source": [
    "df['Business'].value_counts()"
   ]
  },
  {
   "cell_type": "markdown",
   "metadata": {},
   "source": [
    "Plotting a graph which shows 0 as employees not having other business and 1 as employees having business."
   ]
  },
  {
   "cell_type": "code",
   "execution_count": 17,
   "metadata": {},
   "outputs": [
    {
     "data": {
      "text/plain": [
       "Text(0, 0.5, 'Count')"
      ]
     },
     "execution_count": 17,
     "metadata": {},
     "output_type": "execute_result"
    },
    {
     "data": {
      "image/png": "[encoded data removed]",
      "text/plain": [
       "<Figure size 360x288 with 1 Axes>"
      ]
     },
     "metadata": {
      "needs_background": "light"
     },
     "output_type": "display_data"
    }
   ],
   "source": [
    "df['Business'].value_counts().plot(kind='bar',\n",
    "                                    figsize=(5,4),\n",
    "                                    title=\"No of employees having other Business\")\n",
    "plt.xlabel(\"Business\")\n",
    "plt.ylabel(\"Count\")"
   ]
  },
  {
   "cell_type": "markdown",
   "metadata": {},
   "source": [
    "Zero represents the employee does not have business and one represent employees have other business.This graph shows few employees are having other businesses. "
   ]
  },
  {
   "cell_type": "code",
   "execution_count": 18,
   "metadata": {},
   "outputs": [
    {
     "data": {
      "text/plain": [
       "No     3524\n",
       "Yes    1476\n",
       "Name: Dependancies, dtype: int64"
      ]
     },
     "execution_count": 18,
     "metadata": {},
     "output_type": "execute_result"
    }
   ],
   "source": [
    "df['Dependancies'].value_counts()"
   ]
  },
  {
   "cell_type": "code",
   "execution_count": 19,
   "metadata": {},
   "outputs": [
    {
     "data": {
      "text/plain": [
       "Text(0, 0.5, 'Count')"
      ]
     },
     "execution_count": 19,
     "metadata": {},
     "output_type": "execute_result"
    },
    {
     "data": {
      "image/png": "[encoded data removed]",
      "text/plain": [
       "<Figure size 360x288 with 1 Axes>"
      ]
     },
     "metadata": {
      "needs_background": "light"
     },
     "output_type": "display_data"
    }
   ],
   "source": [
    " df['Dependancies'].value_counts().plot(kind='bar',\n",
    "                                    figsize=(5,4),\n",
    "                                    title=\"No of employees having dependancies\")\n",
    "plt.xlabel(\"Dependancies\")\n",
    "plt.ylabel(\"Count\")"
   ]
  },
  {
   "cell_type": "markdown",
   "metadata": {},
   "source": [
    "The above plot shows that there are dependancies for 1476 employees are having dependancies."
   ]
  },
  {
   "cell_type": "code",
   "execution_count": 20,
   "metadata": {},
   "outputs": [
    {
     "data": {
      "text/plain": [
       "Yes    4539\n",
       "No      461\n",
       "Name: Calls, dtype: int64"
      ]
     },
     "execution_count": 20,
     "metadata": {},
     "output_type": "execute_result"
    }
   ],
   "source": [
    "df['Calls'].value_counts()"
   ]
  },
  {
   "cell_type": "code",
   "execution_count": 21,
   "metadata": {},
   "outputs": [
    {
     "data": {
      "text/plain": [
       "Text(0, 0.5, 'Count')"
      ]
     },
     "execution_count": 21,
     "metadata": {},
     "output_type": "execute_result"
    },
    {
     "data": {
      "image/png": "[encoded data removed]",
      "text/plain": [
       "<Figure size 360x288 with 1 Axes>"
      ]
     },
     "metadata": {
      "needs_background": "light"
     },
     "output_type": "display_data"
    }
   ],
   "source": [
    "df['Calls'].value_counts().plot(kind='bar',\n",
    "                                    figsize=(5,4),\n",
    "                                    title=\"Number of employees handles calls\")\n",
    "plt.xlabel(\"Calls\")\n",
    "plt.ylabel(\"Count\")"
   ]
  },
  {
   "cell_type": "markdown",
   "metadata": {},
   "source": [
    "Above plot shows employees who handles calls are more compare to others."
   ]
  },
  {
   "cell_type": "code",
   "execution_count": 22,
   "metadata": {},
   "outputs": [
    {
     "data": {
      "text/plain": [
       "PG                     2979\n",
       "Graduation             1980\n",
       "Intermediate             27\n",
       "High School or less      14\n",
       "Name: Education, dtype: int64"
      ]
     },
     "execution_count": 22,
     "metadata": {},
     "output_type": "execute_result"
    }
   ],
   "source": [
    "df['Education'].value_counts()"
   ]
  },
  {
   "cell_type": "code",
   "execution_count": 23,
   "metadata": {},
   "outputs": [
    {
     "data": {
      "text/plain": [
       "Text(0, 0.5, 'No of employees')"
      ]
     },
     "execution_count": 23,
     "metadata": {},
     "output_type": "execute_result"
    },
    {
     "data": {
      "image/png": "[encoded data removed]",
      "text/plain": [
       "<Figure size 360x288 with 1 Axes>"
      ]
     },
     "metadata": {
      "needs_background": "light"
     },
     "output_type": "display_data"
    }
   ],
   "source": [
    "df['Education'].value_counts().plot(kind='bar',\n",
    "                                    figsize=(5,4),\n",
    "                                    title=\"Employees Education background\")\n",
    "plt.xlabel(\"Education level\")\n",
    "plt.ylabel(\"No of employees\")"
   ]
  },
  {
   "cell_type": "markdown",
   "metadata": {},
   "source": [
    "The above plot shows that employees who are having higher education are hired more in the company."
   ]
  },
  {
   "cell_type": "code",
   "execution_count": 24,
   "metadata": {},
   "outputs": [
    {
     "data": {
      "text/plain": [
       "array(['Month-to-month', 'Two year', 'One year'], dtype=object)"
      ]
     },
     "execution_count": 24,
     "metadata": {},
     "output_type": "execute_result"
    }
   ],
   "source": [
    "df['Type'].unique()"
   ]
  },
  {
   "cell_type": "markdown",
   "metadata": {},
   "source": [
    "# Comparing variables w.r.t Salary"
   ]
  },
  {
   "cell_type": "code",
   "execution_count": 25,
   "metadata": {},
   "outputs": [
    {
     "data": {
      "text/plain": [
       "Text(0.5, 1.0, 'Salaries w.r.t Gender')"
      ]
     },
     "execution_count": 25,
     "metadata": {},
     "output_type": "execute_result"
    },
    {
     "data": {
      "image/png": "[encoded data removed]",
      "text/plain": [
       "<Figure size 432x288 with 1 Axes>"
      ]
     },
     "metadata": {
      "needs_background": "light"
     },
     "output_type": "display_data"
    }
   ],
   "source": [
    "#Average Salary according to Gender\n",
    "sns.boxplot(x = df['Gender'],\n",
    "            y = df['Salary'],showmeans=True).set_title('Salaries w.r.t Gender')\n"
   ]
  },
  {
   "cell_type": "markdown",
   "metadata": {},
   "source": [
    "Average salary of Male and female does not differ much."
   ]
  },
  {
   "cell_type": "code",
   "execution_count": 26,
   "metadata": {},
   "outputs": [
    {
     "data": {
      "text/plain": [
       "Text(0.5, 1.0, 'Salaries w.r.t Education')"
      ]
     },
     "execution_count": 26,
     "metadata": {},
     "output_type": "execute_result"
    },
    {
     "data": {
      "image/png": "[encoded data removed]",
      "text/plain": [
       "<Figure size 432x288 with 1 Axes>"
      ]
     },
     "metadata": {
      "needs_background": "light"
     },
     "output_type": "display_data"
    }
   ],
   "source": [
    "#Average Salary according to Education\n",
    "sns.boxplot(x = df['Education'],\n",
    "            y = df['Salary'],showmeans=True).set_title('Salaries w.r.t Education')\n"
   ]
  },
  {
   "cell_type": "markdown",
   "metadata": {},
   "source": [
    "Education has high impact on Salary where we can see Post Graduates are highly paid and High school educated are least paid."
   ]
  },
  {
   "cell_type": "code",
   "execution_count": 27,
   "metadata": {},
   "outputs": [
    {
     "data": {
      "text/plain": [
       "Text(0.5, 1.0, 'Salaries w.r.t Calls')"
      ]
     },
     "execution_count": 27,
     "metadata": {},
     "output_type": "execute_result"
    },
    {
     "data": {
      "image/png": "[encoded data removed]",
      "text/plain": [
       "<Figure size 432x288 with 1 Axes>"
      ]
     },
     "metadata": {
      "needs_background": "light"
     },
     "output_type": "display_data"
    }
   ],
   "source": [
    "#Average Salary according to Calls\n",
    "sns.boxplot(x = df['Calls'],\n",
    "            y = df['Salary'],showmeans=True).set_title('Salaries w.r.t Calls')"
   ]
  },
  {
   "cell_type": "markdown",
   "metadata": {},
   "source": [
    "There is not much difference in salaries of people who make calls and who doesnot"
   ]
  },
  {
   "cell_type": "code",
   "execution_count": 28,
   "metadata": {},
   "outputs": [
    {
     "data": {
      "text/plain": [
       "Text(0.5, 1.0, 'Salaries w.r.t Type')"
      ]
     },
     "execution_count": 28,
     "metadata": {},
     "output_type": "execute_result"
    },
    {
     "data": {
      "image/png": "[encoded data removed]",
      "text/plain": [
       "<Figure size 432x288 with 1 Axes>"
      ]
     },
     "metadata": {
      "needs_background": "light"
     },
     "output_type": "display_data"
    }
   ],
   "source": [
    "#Average Salary according to Type\n",
    "sns.boxplot(x = df['Type'],\n",
    "            y = df['Salary'],showmeans=True).set_title('Salaries w.r.t Type')"
   ]
  },
  {
   "cell_type": "markdown",
   "metadata": {},
   "source": [
    "There is not much difference in salary w.r.t Type of Salary  settlement "
   ]
  },
  {
   "cell_type": "code",
   "execution_count": 29,
   "metadata": {},
   "outputs": [
    {
     "data": {
      "text/plain": [
       "Text(0.5, 1.0, 'Salaries w.r.t Rating')"
      ]
     },
     "execution_count": 29,
     "metadata": {},
     "output_type": "execute_result"
    },
    {
     "data": {
      "image/png": "[encoded data removed]",
      "text/plain": [
       "<Figure size 432x288 with 1 Axes>"
      ]
     },
     "metadata": {
      "needs_background": "light"
     },
     "output_type": "display_data"
    }
   ],
   "source": [
    "#Average Salary according to Rating\n",
    "sns.boxplot(x = df['Rating'],\n",
    "            y = df['Salary'],showmeans=True).set_title('Salaries w.r.t Rating')"
   ]
  },
  {
   "cell_type": "markdown",
   "metadata": {},
   "source": [
    "There is no difference in Salary w.r.t Rating"
   ]
  },
  {
   "cell_type": "code",
   "execution_count": 30,
   "metadata": {},
   "outputs": [
    {
     "data": {
      "text/plain": [
       "Text(0.5, 1.0, 'Salaries w.r.t Business')"
      ]
     },
     "execution_count": 30,
     "metadata": {},
     "output_type": "execute_result"
    },
    {
     "data": {
      "image/png": "[encoded data removed]",
      "text/plain": [
       "<Figure size 432x288 with 1 Axes>"
      ]
     },
     "metadata": {
      "needs_background": "light"
     },
     "output_type": "display_data"
    }
   ],
   "source": [
    "#Average Salary according to Business\n",
    "sns.boxplot(x = df['Business'],\n",
    "            y = df['Salary'],showmeans=True).set_title('Salaries w.r.t Business')"
   ]
  },
  {
   "cell_type": "markdown",
   "metadata": {},
   "source": [
    "There is no difference in Salary w.r.t Business"
   ]
  },
  {
   "cell_type": "code",
   "execution_count": 31,
   "metadata": {},
   "outputs": [
    {
     "data": {
      "text/plain": [
       "Text(0.5, 1.0, 'Salaries w.r.t Dependancies')"
      ]
     },
     "execution_count": 31,
     "metadata": {},
     "output_type": "execute_result"
    },
    {
     "data": {
      "image/png": "[encoded data removed]",
      "text/plain": [
       "<Figure size 432x288 with 1 Axes>"
      ]
     },
     "metadata": {
      "needs_background": "light"
     },
     "output_type": "display_data"
    }
   ],
   "source": [
    "#Average Salary according to Dependancies\n",
    "sns.boxplot(x = df['Dependancies'],\n",
    "            y = df['Salary'],showmeans=True).set_title('Salaries w.r.t Dependancies')"
   ]
  },
  {
   "cell_type": "markdown",
   "metadata": {},
   "source": [
    "There is no difference in Salary w.r.t Dependancies"
   ]
  },
  {
   "cell_type": "code",
   "execution_count": 32,
   "metadata": {},
   "outputs": [
    {
     "data": {
      "text/plain": [
       "Text(0.5, 1.0, 'Salaries w.r.t Billing')"
      ]
     },
     "execution_count": 32,
     "metadata": {},
     "output_type": "execute_result"
    },
    {
     "data": {
      "image/png": "[encoded data removed]",
      "text/plain": [
       "<Figure size 432x288 with 1 Axes>"
      ]
     },
     "metadata": {
      "needs_background": "light"
     },
     "output_type": "display_data"
    }
   ],
   "source": [
    "#Average Salary according to Billing\n",
    "sns.boxplot(x = df['Billing'],\n",
    "            y = df['Salary'],showmeans=True).set_title('Salaries w.r.t Billing')"
   ]
  },
  {
   "cell_type": "markdown",
   "metadata": {},
   "source": [
    "There is no difference in Salary w.r.t Billing"
   ]
  },
  {
   "cell_type": "code",
   "execution_count": 33,
   "metadata": {},
   "outputs": [
    {
     "data": {
      "image/png": "[encoded data removed]",
      "text/plain": [
       "<Figure size 432x288 with 1 Axes>"
      ]
     },
     "metadata": {
      "needs_background": "light"
     },
     "output_type": "display_data"
    }
   ],
   "source": [
    "plt.scatter(df['Salary'], df['Months'])\n",
    "plt.xlabel('Salary')\n",
    "plt.ylabel('Experience')\n",
    "plt.title('Salaries according to Experience')\n",
    "plt.show()"
   ]
  },
  {
   "cell_type": "markdown",
   "metadata": {},
   "source": [
    "The above plot shows there is positive correlation between Salary and Experience, but we can observe here that there are two categories of employees, who are paid max of around 200000 and employees who are paid below 80000."
   ]
  },
  {
   "cell_type": "code",
   "execution_count": 34,
   "metadata": {},
   "outputs": [
    {
     "data": {
      "image/png": "[encoded data removed]",
      "text/plain": [
       "<Figure size 432x288 with 1 Axes>"
      ]
     },
     "metadata": {
      "needs_background": "light"
     },
     "output_type": "display_data"
    }
   ],
   "source": [
    "plt.scatter(df['Salary'], df['Volume'])\n",
    "plt.xlabel('Salary')\n",
    "plt.ylabel('Volume')\n",
    "plt.title('Salaries according to Volume')\n",
    "plt.show()"
   ]
  },
  {
   "cell_type": "markdown",
   "metadata": {},
   "source": [
    "There is no linear correlation, but we can see most of volume w.r.t Salaries are plotted in a range of 0 to 0.5."
   ]
  },
  {
   "cell_type": "code",
   "execution_count": 35,
   "metadata": {},
   "outputs": [],
   "source": [
    "#converiting Total_sales object type to numerical type\n",
    "df['Total_Sales']=pd.to_numeric(df['Total_Sales'],errors = 'coerce')"
   ]
  },
  {
   "cell_type": "markdown",
   "metadata": {},
   "source": [
    "The above plot says Salary and Volume has slight negative correlation."
   ]
  },
  {
   "cell_type": "code",
   "execution_count": 36,
   "metadata": {},
   "outputs": [
    {
     "data": {
      "image/png": "[encoded data removed]",
      "text/plain": [
       "<Figure size 432x288 with 1 Axes>"
      ]
     },
     "metadata": {
      "needs_background": "light"
     },
     "output_type": "display_data"
    }
   ],
   "source": [
    "plt.scatter(df['Salary'], df['Total_Sales'])\n",
    "plt.xlabel('Salary')\n",
    "plt.ylabel('Total Sales')\n",
    "plt.title('Salaries according to Total_sales')\n",
    "plt.show()"
   ]
  },
  {
   "cell_type": "markdown",
   "metadata": {},
   "source": [
    "Positive correlation between Salary and Total Sales, hence we can say that Total sales are highly dependent on Salaries"
   ]
  },
  {
   "cell_type": "markdown",
   "metadata": {},
   "source": [
    "As we can observe from visualization that categories of  Age, Business,Dependancies,Billing,Gender,Type,Calls,Rating does not effect on Salary. The only categorical variable Education has an high impact on Salary. Also we can observe Total Sales, Months has positive correlation with Salary."
   ]
  },
  {
   "cell_type": "markdown",
   "metadata": {},
   "source": [
    "# Data cleaning "
   ]
  },
  {
   "cell_type": "code",
   "execution_count": 37,
   "metadata": {},
   "outputs": [],
   "source": [
    "#dropping duplicated rows \n",
    "df=df.drop_duplicates(subset=None, keep='first', inplace=False, ignore_index=False) #keep first keeps the first row and removes other duplicates."
   ]
  },
  {
   "cell_type": "code",
   "execution_count": 38,
   "metadata": {},
   "outputs": [],
   "source": [
    "df=df.drop(['openingbalance'], axis = 1)"
   ]
  },
  {
   "cell_type": "markdown",
   "metadata": {},
   "source": [
    "As we have observed that opening balance has 29% of missing values. Also Clossing balance mean,min,max are equal. I have decided to drop the variable."
   ]
  },
  {
   "cell_type": "code",
   "execution_count": 39,
   "metadata": {},
   "outputs": [
    {
     "data": {
      "text/plain": [
       "PG                     2979\n",
       "Graduation             1980\n",
       "Intermediate             27\n",
       "High School or less      14\n",
       "Name: Education, dtype: int64"
      ]
     },
     "execution_count": 39,
     "metadata": {},
     "output_type": "execute_result"
    }
   ],
   "source": [
    "df['Education'].value_counts()"
   ]
  },
  {
   "cell_type": "markdown",
   "metadata": {},
   "source": [
    "Seperating between Post graduate, graduate, Intermediate, Highschool or less will be less relevant for this study as there are less values in High school and Intermediate. We are combining those two categories to Graduation as it would make more sense."
   ]
  },
  {
   "cell_type": "code",
   "execution_count": 40,
   "metadata": {},
   "outputs": [],
   "source": [
    "df['Education']= df['Education'].replace({'Intermediate':'Graduation','High School or less':'Graduation'})"
   ]
  },
  {
   "cell_type": "code",
   "execution_count": 41,
   "metadata": {},
   "outputs": [],
   "source": [
    "#df1['Education']= df1['Education'].map({'High School or less':'Graduation','Intermediate':'Graduation'})"
   ]
  },
  {
   "cell_type": "code",
   "execution_count": 42,
   "metadata": {},
   "outputs": [],
   "source": [
    "#one hot encoding\n",
    "#df=pd.get_dummies(df, columns = ['Education'])"
   ]
  },
  {
   "cell_type": "markdown",
   "metadata": {},
   "source": [
    "One hot encoding to Education variable where categories of Education are converted to numerical type."
   ]
  },
  {
   "cell_type": "code",
   "execution_count": 43,
   "metadata": {},
   "outputs": [
    {
     "data": {
      "text/html": [
       "<div>\n",
       "<style scoped>\n",
       "    .dataframe tbody tr th:only-of-type {\n",
       "        vertical-align: middle;\n",
       "    }\n",
       "\n",
       "    .dataframe tbody tr th {\n",
       "        vertical-align: top;\n",
       "    }\n",
       "\n",
       "    .dataframe thead th {\n",
       "        text-align: right;\n",
       "    }\n",
       "</style>\n",
       "<table border=\"1\" class=\"dataframe\">\n",
       "  <thead>\n",
       "    <tr style=\"text-align: right;\">\n",
       "      <th></th>\n",
       "      <th>Gender</th>\n",
       "      <th>Business</th>\n",
       "      <th>Dependancies</th>\n",
       "      <th>Calls</th>\n",
       "      <th>Type</th>\n",
       "      <th>Billing</th>\n",
       "      <th>Rating</th>\n",
       "      <th>Age</th>\n",
       "      <th>Salary</th>\n",
       "      <th>Base_pay</th>\n",
       "      <th>Bonus</th>\n",
       "      <th>Unit_Price</th>\n",
       "      <th>Volume</th>\n",
       "      <th>closingbalance</th>\n",
       "      <th>low</th>\n",
       "      <th>Unit_Sales</th>\n",
       "      <th>Total_Sales</th>\n",
       "      <th>Months</th>\n",
       "      <th>Education</th>\n",
       "    </tr>\n",
       "  </thead>\n",
       "  <tbody>\n",
       "    <tr>\n",
       "      <th>0</th>\n",
       "      <td>Female</td>\n",
       "      <td>0</td>\n",
       "      <td>No</td>\n",
       "      <td>Yes</td>\n",
       "      <td>Month-to-month</td>\n",
       "      <td>No</td>\n",
       "      <td>Yes</td>\n",
       "      <td>18</td>\n",
       "      <td>5089.00</td>\n",
       "      <td>2035.600</td>\n",
       "      <td>254.4500</td>\n",
       "      <td>3.77</td>\n",
       "      <td>21226600</td>\n",
       "      <td>3.76</td>\n",
       "      <td>3.65</td>\n",
       "      <td>18.25</td>\n",
       "      <td>18.80</td>\n",
       "      <td>0</td>\n",
       "      <td>Graduation</td>\n",
       "    </tr>\n",
       "    <tr>\n",
       "      <th>1</th>\n",
       "      <td>Female</td>\n",
       "      <td>0</td>\n",
       "      <td>No</td>\n",
       "      <td>Yes</td>\n",
       "      <td>Month-to-month</td>\n",
       "      <td>No</td>\n",
       "      <td>Yes</td>\n",
       "      <td>19</td>\n",
       "      <td>5698.12</td>\n",
       "      <td>2279.248</td>\n",
       "      <td>284.9060</td>\n",
       "      <td>3.74</td>\n",
       "      <td>10462800</td>\n",
       "      <td>3.68</td>\n",
       "      <td>3.65</td>\n",
       "      <td>18.40</td>\n",
       "      <td>18.85</td>\n",
       "      <td>0</td>\n",
       "      <td>Graduation</td>\n",
       "    </tr>\n",
       "    <tr>\n",
       "      <th>2</th>\n",
       "      <td>Male</td>\n",
       "      <td>0</td>\n",
       "      <td>No</td>\n",
       "      <td>Yes</td>\n",
       "      <td>Month-to-month</td>\n",
       "      <td>Yes</td>\n",
       "      <td>No</td>\n",
       "      <td>22</td>\n",
       "      <td>5896.65</td>\n",
       "      <td>2358.660</td>\n",
       "      <td>294.8325</td>\n",
       "      <td>3.89</td>\n",
       "      <td>18761000</td>\n",
       "      <td>4.29</td>\n",
       "      <td>3.72</td>\n",
       "      <td>18.70</td>\n",
       "      <td>18.90</td>\n",
       "      <td>0</td>\n",
       "      <td>Graduation</td>\n",
       "    </tr>\n",
       "    <tr>\n",
       "      <th>3</th>\n",
       "      <td>Female</td>\n",
       "      <td>1</td>\n",
       "      <td>No</td>\n",
       "      <td>Yes</td>\n",
       "      <td>Month-to-month</td>\n",
       "      <td>Yes</td>\n",
       "      <td>Yes</td>\n",
       "      <td>21</td>\n",
       "      <td>6125.12</td>\n",
       "      <td>2450.048</td>\n",
       "      <td>306.2560</td>\n",
       "      <td>4.35</td>\n",
       "      <td>66130600</td>\n",
       "      <td>4.31</td>\n",
       "      <td>3.83</td>\n",
       "      <td>18.75</td>\n",
       "      <td>19.00</td>\n",
       "      <td>0</td>\n",
       "      <td>Graduation</td>\n",
       "    </tr>\n",
       "    <tr>\n",
       "      <th>4</th>\n",
       "      <td>Male</td>\n",
       "      <td>0</td>\n",
       "      <td>No</td>\n",
       "      <td>Yes</td>\n",
       "      <td>Month-to-month</td>\n",
       "      <td>Yes</td>\n",
       "      <td>Yes</td>\n",
       "      <td>23</td>\n",
       "      <td>6245.00</td>\n",
       "      <td>2498.000</td>\n",
       "      <td>312.2500</td>\n",
       "      <td>4.34</td>\n",
       "      <td>26868200</td>\n",
       "      <td>4.41</td>\n",
       "      <td>4.08</td>\n",
       "      <td>18.80</td>\n",
       "      <td>19.05</td>\n",
       "      <td>1</td>\n",
       "      <td>Graduation</td>\n",
       "    </tr>\n",
       "  </tbody>\n",
       "</table>\n",
       "</div>"
      ],
      "text/plain": [
       "   Gender  Business Dependancies Calls            Type Billing Rating  Age  \\\n",
       "0  Female         0           No   Yes  Month-to-month      No    Yes   18   \n",
       "1  Female         0           No   Yes  Month-to-month      No    Yes   19   \n",
       "2    Male         0           No   Yes  Month-to-month     Yes     No   22   \n",
       "3  Female         1           No   Yes  Month-to-month     Yes    Yes   21   \n",
       "4    Male         0           No   Yes  Month-to-month     Yes    Yes   23   \n",
       "\n",
       "    Salary  Base_pay     Bonus  Unit_Price    Volume  closingbalance   low  \\\n",
       "0  5089.00  2035.600  254.4500        3.77  21226600            3.76  3.65   \n",
       "1  5698.12  2279.248  284.9060        3.74  10462800            3.68  3.65   \n",
       "2  5896.65  2358.660  294.8325        3.89  18761000            4.29  3.72   \n",
       "3  6125.12  2450.048  306.2560        4.35  66130600            4.31  3.83   \n",
       "4  6245.00  2498.000  312.2500        4.34  26868200            4.41  4.08   \n",
       "\n",
       "   Unit_Sales  Total_Sales  Months   Education  \n",
       "0       18.25        18.80       0  Graduation  \n",
       "1       18.40        18.85       0  Graduation  \n",
       "2       18.70        18.90       0  Graduation  \n",
       "3       18.75        19.00       0  Graduation  \n",
       "4       18.80        19.05       1  Graduation  "
      ]
     },
     "execution_count": 43,
     "metadata": {},
     "output_type": "execute_result"
    }
   ],
   "source": [
    "df.head() #after one hot encoding"
   ]
  },
  {
   "cell_type": "code",
   "execution_count": 44,
   "metadata": {},
   "outputs": [
    {
     "name": "stdout",
     "output_type": "stream",
     "text": [
      "<class 'pandas.core.frame.DataFrame'>\n",
      "Int64Index: 5000 entries, 0 to 4999\n",
      "Data columns (total 19 columns):\n",
      " #   Column          Non-Null Count  Dtype  \n",
      "---  ------          --------------  -----  \n",
      " 0   Gender          5000 non-null   object \n",
      " 1   Business        5000 non-null   int64  \n",
      " 2   Dependancies    5000 non-null   object \n",
      " 3   Calls           5000 non-null   object \n",
      " 4   Type            5000 non-null   object \n",
      " 5   Billing         5000 non-null   object \n",
      " 6   Rating          5000 non-null   object \n",
      " 7   Age             5000 non-null   int64  \n",
      " 8   Salary          5000 non-null   float64\n",
      " 9   Base_pay        4977 non-null   float64\n",
      " 10  Bonus           5000 non-null   float64\n",
      " 11  Unit_Price      5000 non-null   float64\n",
      " 12  Volume          5000 non-null   int64  \n",
      " 13  closingbalance  5000 non-null   float64\n",
      " 14  low             5000 non-null   float64\n",
      " 15  Unit_Sales      5000 non-null   float64\n",
      " 16  Total_Sales     4984 non-null   float64\n",
      " 17  Months          5000 non-null   int64  \n",
      " 18  Education       5000 non-null   object \n",
      "dtypes: float64(8), int64(4), object(7)\n",
      "memory usage: 644.5+ KB\n"
     ]
    }
   ],
   "source": [
    "df.info()"
   ]
  },
  {
   "cell_type": "markdown",
   "metadata": {},
   "source": [
    "# Imputing Missing values"
   ]
  },
  {
   "cell_type": "code",
   "execution_count": 45,
   "metadata": {},
   "outputs": [
    {
     "data": {
      "text/plain": [
       "<matplotlib.axes._subplots.AxesSubplot at 0xfd66ec8>"
      ]
     },
     "execution_count": 45,
     "metadata": {},
     "output_type": "execute_result"
    },
    {
     "data": {
      "image/png": "[encoded data removed]",
      "text/plain": [
       "<Figure size 432x288 with 1 Axes>"
      ]
     },
     "metadata": {
      "needs_background": "light"
     },
     "output_type": "display_data"
    }
   ],
   "source": [
    "#checking with distribution to impute missing values\n",
    "sns.distplot(df['Base_pay'])"
   ]
  },
  {
   "cell_type": "code",
   "execution_count": 46,
   "metadata": {},
   "outputs": [],
   "source": [
    "#imputing Null values with mean for Base_pay\n",
    "df['Base_pay']=df['Base_pay'].fillna(df['Base_pay'].mean())"
   ]
  },
  {
   "cell_type": "code",
   "execution_count": 47,
   "metadata": {},
   "outputs": [
    {
     "data": {
      "text/plain": [
       "<matplotlib.axes._subplots.AxesSubplot at 0xfe00790>"
      ]
     },
     "execution_count": 47,
     "metadata": {},
     "output_type": "execute_result"
    },
    {
     "data": {
      "image/png": "[encoded data removed]",
      "text/plain": [
       "<Figure size 432x288 with 1 Axes>"
      ]
     },
     "metadata": {
      "needs_background": "light"
     },
     "output_type": "display_data"
    }
   ],
   "source": [
    "##cecking with distribution to impute missing values\n",
    "sns.distplot(df['Total_Sales'])\n"
   ]
  },
  {
   "cell_type": "code",
   "execution_count": 48,
   "metadata": {},
   "outputs": [],
   "source": [
    "#imputing Null values with median for Total_Sales\n",
    "df['Total_Sales']=df['Total_Sales'].fillna(df['Total_Sales'].median())"
   ]
  },
  {
   "cell_type": "markdown",
   "metadata": {},
   "source": [
    "Since the distribution of Base pay is approximately normal I have imputed with mean and Total_sales are right skewed I have imputed it with median."
   ]
  },
  {
   "cell_type": "code",
   "execution_count": 49,
   "metadata": {},
   "outputs": [
    {
     "data": {
      "text/plain": [
       "Gender            0\n",
       "Business          0\n",
       "Dependancies      0\n",
       "Calls             0\n",
       "Type              0\n",
       "Billing           0\n",
       "Rating            0\n",
       "Age               0\n",
       "Salary            0\n",
       "Base_pay          0\n",
       "Bonus             0\n",
       "Unit_Price        0\n",
       "Volume            0\n",
       "closingbalance    0\n",
       "low               0\n",
       "Unit_Sales        0\n",
       "Total_Sales       0\n",
       "Months            0\n",
       "Education         0\n",
       "dtype: int64"
      ]
     },
     "execution_count": 49,
     "metadata": {},
     "output_type": "execute_result"
    }
   ],
   "source": [
    "df.isnull().sum() #Validation"
   ]
  },
  {
   "cell_type": "markdown",
   "metadata": {},
   "source": [
    "# Outliers detection and treatment "
   ]
  },
  {
   "cell_type": "code",
   "execution_count": 50,
   "metadata": {},
   "outputs": [
    {
     "data": {
      "text/plain": [
       "<matplotlib.axes._subplots.AxesSubplot at 0xfe7e928>"
      ]
     },
     "execution_count": 50,
     "metadata": {},
     "output_type": "execute_result"
    },
    {
     "data": {
      "image/png": "[encoded data removed]",
      "text/plain": [
       "<Figure size 432x288 with 1 Axes>"
      ]
     },
     "metadata": {
      "needs_background": "light"
     },
     "output_type": "display_data"
    }
   ],
   "source": [
    "#boxplot for Salary\n",
    "sns.boxplot(df['Salary'])\n"
   ]
  },
  {
   "cell_type": "markdown",
   "metadata": {},
   "source": [
    "Boxplot shows there are many outliers in Salary"
   ]
  },
  {
   "cell_type": "code",
   "execution_count": 51,
   "metadata": {},
   "outputs": [
    {
     "data": {
      "text/plain": [
       "<matplotlib.axes._subplots.AxesSubplot at 0xfea8310>"
      ]
     },
     "execution_count": 51,
     "metadata": {},
     "output_type": "execute_result"
    },
    {
     "data": {
      "image/png": "[encoded data removed]",
      "text/plain": [
       "<Figure size 432x288 with 1 Axes>"
      ]
     },
     "metadata": {
      "needs_background": "light"
     },
     "output_type": "display_data"
    }
   ],
   "source": [
    "sns.distplot(df['Salary'])\n"
   ]
  },
  {
   "cell_type": "markdown",
   "metadata": {},
   "source": [
    "Distribution of Salary looks normal "
   ]
  },
  {
   "cell_type": "code",
   "execution_count": 52,
   "metadata": {},
   "outputs": [
    {
     "name": "stdout",
     "output_type": "stream",
     "text": [
      "-0.3960415999978834\n"
     ]
    }
   ],
   "source": [
    "print(df['Salary'].skew())\n"
   ]
  },
  {
   "cell_type": "markdown",
   "metadata": {},
   "source": [
    "Since the Skewness is close to 0 , we can say the Salary variable is normally distributed."
   ]
  },
  {
   "cell_type": "markdown",
   "metadata": {},
   "source": [
    "\n",
    "\n",
    "\n",
    "Now Since the outliers are more and I don't want to loose the data unless it is extreme outlier. I have used Flooring and capping method where IQR above 90% and IQR below 10% are considered as outliers."
   ]
  },
  {
   "cell_type": "markdown",
   "metadata": {},
   "source": [
    "Quantile-based Flooring and Capping\n",
    "\n",
    "In this technique, we will do the flooring (e.g., the 10th percentile) for the lower values and capping (e.g., the 90th percentile) for the higher values. The lines of code below print the 10th and 90th percentiles of the variable 'Income', respectively. These values will be used for quantile-based flooring and capping."
   ]
  },
  {
   "cell_type": "code",
   "execution_count": 53,
   "metadata": {},
   "outputs": [
    {
     "name": "stdout",
     "output_type": "stream",
     "text": [
      "68550.37362\n",
      "131232.04457\n"
     ]
    }
   ],
   "source": [
    "#Quantile-based Flooring and Capping\n",
    "print(df['Salary'].quantile(0.10))\n",
    "print(df['Salary'].quantile(0.90))"
   ]
  },
  {
   "cell_type": "code",
   "execution_count": 54,
   "metadata": {},
   "outputs": [
    {
     "name": "stdout",
     "output_type": "stream",
     "text": [
      "-0.0433299040082212\n"
     ]
    }
   ],
   "source": [
    "df[\"Salary\"] = np.where(df[\"Salary\"] <df['Salary'].quantile(0.10), df['Salary'].quantile(0.10),df['Salary'])\n",
    "df[\"Salary\"] = np.where(df[\"Salary\"] >df['Salary'].quantile(0.90), df['Salary'].quantile(0.90),df['Salary'])\n",
    "print(df['Salary'].skew())"
   ]
  },
  {
   "cell_type": "markdown",
   "metadata": {},
   "source": [
    "\n",
    "\n",
    "\n",
    "We can now see in the below plot that there are no outliers."
   ]
  },
  {
   "cell_type": "code",
   "execution_count": 55,
   "metadata": {},
   "outputs": [
    {
     "data": {
      "text/plain": [
       "<matplotlib.axes._subplots.AxesSubplot at 0xfd59a00>"
      ]
     },
     "execution_count": 55,
     "metadata": {},
     "output_type": "execute_result"
    },
    {
     "data": {
      "image/png": "[encoded data removed]",
      "text/plain": [
       "<Figure size 432x288 with 1 Axes>"
      ]
     },
     "metadata": {
      "needs_background": "light"
     },
     "output_type": "display_data"
    }
   ],
   "source": [
    "sns.boxplot(df['Salary'])\n"
   ]
  },
  {
   "cell_type": "code",
   "execution_count": 56,
   "metadata": {},
   "outputs": [
    {
     "data": {
      "text/plain": [
       "<matplotlib.axes._subplots.AxesSubplot at 0xfd499d0>"
      ]
     },
     "execution_count": 56,
     "metadata": {},
     "output_type": "execute_result"
    },
    {
     "data": {
      "image/png": "[encoded data removed]",
      "text/plain": [
       "<Figure size 432x288 with 1 Axes>"
      ]
     },
     "metadata": {
      "needs_background": "light"
     },
     "output_type": "display_data"
    }
   ],
   "source": [
    "#boxplot for Base_pay\n",
    "sns.boxplot(df['Base_pay'])"
   ]
  },
  {
   "cell_type": "markdown",
   "metadata": {},
   "source": [
    "Boxplot shows there are many outliers in Base_pay"
   ]
  },
  {
   "cell_type": "code",
   "execution_count": 57,
   "metadata": {},
   "outputs": [
    {
     "data": {
      "text/plain": [
       "<matplotlib.axes._subplots.AxesSubplot at 0xf200ce8>"
      ]
     },
     "execution_count": 57,
     "metadata": {},
     "output_type": "execute_result"
    },
    {
     "data": {
      "image/png": "[encoded data removed]",
      "text/plain": [
       "<Figure size 432x288 with 1 Axes>"
      ]
     },
     "metadata": {
      "needs_background": "light"
     },
     "output_type": "display_data"
    }
   ],
   "source": [
    "sns.distplot(df['Base_pay'])\n"
   ]
  },
  {
   "cell_type": "code",
   "execution_count": 58,
   "metadata": {},
   "outputs": [
    {
     "name": "stdout",
     "output_type": "stream",
     "text": [
      "-0.3650348409836631\n"
     ]
    }
   ],
   "source": [
    "print(df['Base_pay'].skew())\n"
   ]
  },
  {
   "cell_type": "markdown",
   "metadata": {},
   "source": [
    "Distribution of Base_pay looks normal from distribution plot.Since the Skewness is close to 0 , we can say the Base_pay variable is normally distributed."
   ]
  },
  {
   "cell_type": "markdown",
   "metadata": {},
   "source": [
    "Now Since the outliers are more and I don't want to loose the data unless it is extreme outlier. I have used Flooring and capping method where IQR above 90% and IQR below 10% are considered as outliers."
   ]
  },
  {
   "cell_type": "code",
   "execution_count": 59,
   "metadata": {
    "scrolled": true
   },
   "outputs": [
    {
     "name": "stdout",
     "output_type": "stream",
     "text": [
      "27657.468574000002\n",
      "52628.605344\n"
     ]
    }
   ],
   "source": [
    "#Quantile-based Flooring and Capping\n",
    "print(df['Base_pay'].quantile(0.10))\n",
    "print(df['Base_pay'].quantile(0.90))"
   ]
  },
  {
   "cell_type": "code",
   "execution_count": 60,
   "metadata": {},
   "outputs": [
    {
     "name": "stdout",
     "output_type": "stream",
     "text": [
      "-0.025237709110598056\n"
     ]
    }
   ],
   "source": [
    "df[\"Base_pay\"] = np.where(df[\"Base_pay\"] <df['Base_pay'].quantile(0.10), df['Base_pay'].quantile(0.10),df['Base_pay'])\n",
    "df[\"Base_pay\"] = np.where(df[\"Base_pay\"] >df['Base_pay'].quantile(0.90), df['Base_pay'].quantile(0.90),df['Base_pay'])\n",
    "print(df['Base_pay'].skew())"
   ]
  },
  {
   "cell_type": "code",
   "execution_count": 61,
   "metadata": {},
   "outputs": [
    {
     "data": {
      "text/plain": [
       "<matplotlib.axes._subplots.AxesSubplot at 0xff9b1a8>"
      ]
     },
     "execution_count": 61,
     "metadata": {},
     "output_type": "execute_result"
    },
    {
     "data": {
      "image/png": "[encoded data removed]",
      "text/plain": [
       "<Figure size 432x288 with 1 Axes>"
      ]
     },
     "metadata": {
      "needs_background": "light"
     },
     "output_type": "display_data"
    }
   ],
   "source": [
    "#after flooring and capping\n",
    "sns.boxplot(df['Base_pay'])"
   ]
  },
  {
   "cell_type": "code",
   "execution_count": 62,
   "metadata": {},
   "outputs": [
    {
     "data": {
      "text/plain": [
       "<matplotlib.axes._subplots.AxesSubplot at 0xffc9ec8>"
      ]
     },
     "execution_count": 62,
     "metadata": {},
     "output_type": "execute_result"
    },
    {
     "data": {
      "image/png": "[encoded data removed]",
      "text/plain": [
       "<Figure size 432x288 with 1 Axes>"
      ]
     },
     "metadata": {
      "needs_background": "light"
     },
     "output_type": "display_data"
    }
   ],
   "source": [
    "#boxplot for months\n",
    "sns.boxplot(df['Months'])\n"
   ]
  },
  {
   "cell_type": "markdown",
   "metadata": {},
   "source": [
    "Months does not have outliers,but slightly right skewed"
   ]
  },
  {
   "cell_type": "code",
   "execution_count": 63,
   "metadata": {},
   "outputs": [
    {
     "data": {
      "text/plain": [
       "<matplotlib.axes._subplots.AxesSubplot at 0xfffc640>"
      ]
     },
     "execution_count": 63,
     "metadata": {},
     "output_type": "execute_result"
    },
    {
     "data": {
      "image/png": "[encoded data removed]",
      "text/plain": [
       "<Figure size 432x288 with 1 Axes>"
      ]
     },
     "metadata": {
      "needs_background": "light"
     },
     "output_type": "display_data"
    }
   ],
   "source": [
    "sns.distplot(df['Unit_Price'])"
   ]
  },
  {
   "cell_type": "markdown",
   "metadata": {},
   "source": [
    "Unit Price is  right skewed. By applying log transformation to the Unit Price we can convert it into normal distribution."
   ]
  },
  {
   "cell_type": "code",
   "execution_count": 64,
   "metadata": {},
   "outputs": [],
   "source": [
    "#Converted into normal distribution\n",
    "df['Unit_Price']=np.log(df['Unit_Price'])"
   ]
  },
  {
   "cell_type": "code",
   "execution_count": 65,
   "metadata": {},
   "outputs": [
    {
     "data": {
      "text/plain": [
       "<matplotlib.axes._subplots.AxesSubplot at 0xffc0a90>"
      ]
     },
     "execution_count": 65,
     "metadata": {},
     "output_type": "execute_result"
    },
    {
     "data": {
      "image/png": "[encoded data removed]",
      "text/plain": [
       "<Figure size 432x288 with 1 Axes>"
      ]
     },
     "metadata": {
      "needs_background": "light"
     },
     "output_type": "display_data"
    }
   ],
   "source": [
    "sns.boxplot(df['Unit_Price'])\n"
   ]
  },
  {
   "cell_type": "code",
   "execution_count": 66,
   "metadata": {},
   "outputs": [
    {
     "name": "stdout",
     "output_type": "stream",
     "text": [
      "2.811027673277442\n",
      "4.51881675901575\n"
     ]
    }
   ],
   "source": [
    "#Quantile-based Flooring and Capping\n",
    "print(df['Unit_Price'].quantile(0.10))\n",
    "print(df['Unit_Price'].quantile(0.90))"
   ]
  },
  {
   "cell_type": "code",
   "execution_count": 67,
   "metadata": {},
   "outputs": [
    {
     "name": "stdout",
     "output_type": "stream",
     "text": [
      "-0.03226335122460818\n"
     ]
    }
   ],
   "source": [
    "df[\"Unit_Price\"] = np.where(df[\"Unit_Price\"] <df['Unit_Price'].quantile(0.10),df['Unit_Price'].quantile(0.10),df['Unit_Price'])\n",
    "df[\"Unit_Price\"] = np.where(df[\"Unit_Price\"] >df['Unit_Price'].quantile(0.90),df['Unit_Price'].quantile(0.90),df['Unit_Price'])\n",
    "print(df['Unit_Price'].skew())"
   ]
  },
  {
   "cell_type": "code",
   "execution_count": 68,
   "metadata": {},
   "outputs": [
    {
     "data": {
      "text/plain": [
       "<matplotlib.axes._subplots.AxesSubplot at 0xff9b100>"
      ]
     },
     "execution_count": 68,
     "metadata": {},
     "output_type": "execute_result"
    },
    {
     "data": {
      "image/png": "[encoded data removed]",
      "text/plain": [
       "<Figure size 432x288 with 1 Axes>"
      ]
     },
     "metadata": {
      "needs_background": "light"
     },
     "output_type": "display_data"
    }
   ],
   "source": [
    "sns.boxplot(df['closingbalance'])\n"
   ]
  },
  {
   "cell_type": "code",
   "execution_count": 69,
   "metadata": {},
   "outputs": [],
   "source": [
    "df['closingbalance']=np.log(df['closingbalance'])"
   ]
  },
  {
   "cell_type": "code",
   "execution_count": 70,
   "metadata": {},
   "outputs": [
    {
     "data": {
      "text/plain": [
       "<matplotlib.axes._subplots.AxesSubplot at 0xee8d448>"
      ]
     },
     "execution_count": 70,
     "metadata": {},
     "output_type": "execute_result"
    },
    {
     "data": {
      "image/png": "[encoded data removed]",
      "text/plain": [
       "<Figure size 432x288 with 1 Axes>"
      ]
     },
     "metadata": {
      "needs_background": "light"
     },
     "output_type": "display_data"
    }
   ],
   "source": [
    "sns.boxplot(df['closingbalance'])\n"
   ]
  },
  {
   "cell_type": "markdown",
   "metadata": {},
   "source": [
    "Now Since the outliers are more and I don't want to loose the data unless it is extreme outlier. I have used Flooring and capping method where IQR above 90% and IQR below 10% are considered as outliers."
   ]
  },
  {
   "cell_type": "code",
   "execution_count": 71,
   "metadata": {},
   "outputs": [
    {
     "name": "stdout",
     "output_type": "stream",
     "text": [
      "2.6669848551668847\n",
      "4.409921448980865\n"
     ]
    }
   ],
   "source": [
    "#Quantile-based Flooring and Capping\n",
    "print(df['closingbalance'].quantile(0.10))\n",
    "print(df['closingbalance'].quantile(0.90))"
   ]
  },
  {
   "cell_type": "code",
   "execution_count": 72,
   "metadata": {},
   "outputs": [
    {
     "name": "stdout",
     "output_type": "stream",
     "text": [
      "0.052027911907282946\n"
     ]
    }
   ],
   "source": [
    "df[\"closingbalance\"] = np.where(df[\"closingbalance\"] <df['closingbalance'].quantile(0.10),df['closingbalance'].quantile(0.10),df['closingbalance'])\n",
    "df[\"closingbalance\"] = np.where(df[\"closingbalance\"] >df['closingbalance'].quantile(0.90), df['closingbalance'].quantile(0.90),df['closingbalance'])\n",
    "print(df['closingbalance'].skew())"
   ]
  },
  {
   "cell_type": "code",
   "execution_count": 73,
   "metadata": {},
   "outputs": [
    {
     "data": {
      "text/plain": [
       "<matplotlib.axes._subplots.AxesSubplot at 0x10111e50>"
      ]
     },
     "execution_count": 73,
     "metadata": {},
     "output_type": "execute_result"
    },
    {
     "data": {
      "image/png": "[encoded data removed]",
      "text/plain": [
       "<Figure size 432x288 with 1 Axes>"
      ]
     },
     "metadata": {
      "needs_background": "light"
     },
     "output_type": "display_data"
    }
   ],
   "source": [
    "#after flooring and capping\n",
    "sns.boxplot(df['closingbalance'])\n"
   ]
  },
  {
   "cell_type": "markdown",
   "metadata": {},
   "source": [
    "Now closing balance is normally distributed and does not have outliers"
   ]
  },
  {
   "cell_type": "code",
   "execution_count": 74,
   "metadata": {},
   "outputs": [
    {
     "data": {
      "text/plain": [
       "<matplotlib.axes._subplots.AxesSubplot at 0x10147c10>"
      ]
     },
     "execution_count": 74,
     "metadata": {},
     "output_type": "execute_result"
    },
    {
     "data": {
      "image/png": "[encoded data removed]",
      "text/plain": [
       "<Figure size 432x288 with 1 Axes>"
      ]
     },
     "metadata": {
      "needs_background": "light"
     },
     "output_type": "display_data"
    }
   ],
   "source": [
    "#Total Sales boxplot\n",
    "sns.boxplot(df['Total_Sales'])\n"
   ]
  },
  {
   "cell_type": "code",
   "execution_count": 75,
   "metadata": {},
   "outputs": [],
   "source": [
    "#log transformation\n",
    "df['Total_Sales']=np.log(df['Total_Sales'])"
   ]
  },
  {
   "cell_type": "code",
   "execution_count": 76,
   "metadata": {},
   "outputs": [
    {
     "data": {
      "text/plain": [
       "<matplotlib.axes._subplots.AxesSubplot at 0x101758f8>"
      ]
     },
     "execution_count": 76,
     "metadata": {},
     "output_type": "execute_result"
    },
    {
     "data": {
      "image/png": "[encoded data removed]",
      "text/plain": [
       "<Figure size 432x288 with 1 Axes>"
      ]
     },
     "metadata": {
      "needs_background": "light"
     },
     "output_type": "display_data"
    }
   ],
   "source": [
    "sns.distplot(df['Total_Sales'])\n"
   ]
  },
  {
   "cell_type": "markdown",
   "metadata": {},
   "source": [
    "The above plot after log transformation still looks left skewed"
   ]
  },
  {
   "cell_type": "code",
   "execution_count": 77,
   "metadata": {},
   "outputs": [],
   "source": [
    "df['Unit_Sales']=np.log(df['Unit_Sales'])"
   ]
  },
  {
   "cell_type": "code",
   "execution_count": 78,
   "metadata": {},
   "outputs": [
    {
     "data": {
      "text/plain": [
       "<matplotlib.axes._subplots.AxesSubplot at 0x101b6df0>"
      ]
     },
     "execution_count": 78,
     "metadata": {},
     "output_type": "execute_result"
    },
    {
     "data": {
      "image/png": "[encoded data removed]",
      "text/plain": [
       "<Figure size 432x288 with 1 Axes>"
      ]
     },
     "metadata": {
      "needs_background": "light"
     },
     "output_type": "display_data"
    }
   ],
   "source": [
    "sns.distplot(df['Unit_Sales'])\n"
   ]
  },
  {
   "cell_type": "code",
   "execution_count": 79,
   "metadata": {},
   "outputs": [
    {
     "data": {
      "text/plain": [
       "<matplotlib.axes._subplots.AxesSubplot at 0x10217dd8>"
      ]
     },
     "execution_count": 79,
     "metadata": {},
     "output_type": "execute_result"
    },
    {
     "data": {
      "image/png": "[encoded data removed]",
      "text/plain": [
       "<Figure size 432x288 with 1 Axes>"
      ]
     },
     "metadata": {
      "needs_background": "light"
     },
     "output_type": "display_data"
    }
   ],
   "source": [
    "sns.distplot(df['Volume'])\n"
   ]
  },
  {
   "cell_type": "code",
   "execution_count": 80,
   "metadata": {},
   "outputs": [],
   "source": [
    "Numeric_col=df.iloc[:,7:18]   #numerical columns\n",
    "cat_col= df.iloc[:,0:7]       #categorical columns"
   ]
  },
  {
   "cell_type": "markdown",
   "metadata": {},
   "source": [
    "# Bartlett’s Test of Homogeneity of Variances"
   ]
  },
  {
   "cell_type": "markdown",
   "metadata": {},
   "source": [
    "Bartlett's test for homogeneity of variances is used to test that variances are equal for all samples. It checks that the assumption of equal variances is true before running certain statistical tests\n",
    "\n",
    "Bartlett’s test of Homogeneity of Variances is a test,\n",
    "which allows us to determine whether the variances of a continuous, intervallevel (dependent) variable are equal across two or more groupings of the data by\n",
    "a categorical (independent) variable."
   ]
  },
  {
   "cell_type": "markdown",
   "metadata": {},
   "source": [
    "Null Hypothesis :There is equal variances for all samples.\n",
    "\n",
    "Alternative Hypothesis: There is a difference in variances of all samples"
   ]
  },
  {
   "cell_type": "code",
   "execution_count": 81,
   "metadata": {},
   "outputs": [
    {
     "name": "stdout",
     "output_type": "stream",
     "text": [
      "0.8860453288103981 0.3465512410550535\n"
     ]
    }
   ],
   "source": [
    "from scipy.stats import bartlett\n",
    "\n",
    "# subsetting the data:\n",
    "Male = df.query('Gender == \"Male\"')['Salary']\n",
    "Female = df.query('Gender == \"Female\"')['Salary']\n",
    "\n",
    "# Bartlett's test in Python with SciPy:\n",
    "stat, p = bartlett(Male,Female)\n",
    "\n",
    "# Get the results:\n",
    "print(stat, p)\n"
   ]
  },
  {
   "cell_type": "markdown",
   "metadata": {},
   "source": [
    " we accept the null hypothesis as p value >0.05 and can, therefore, assume that the groups have equal variances. "
   ]
  },
  {
   "cell_type": "code",
   "execution_count": 82,
   "metadata": {
    "scrolled": true
   },
   "outputs": [
    {
     "name": "stdout",
     "output_type": "stream",
     "text": [
      "0.1587047786732841 0.6903518055253657\n"
     ]
    }
   ],
   "source": [
    "\n",
    "# subsetting the data:\n",
    "No = df.query('Business == \"0\"')['Salary']\n",
    "Yes = df.query('Business == \"1\"')['Salary']\n",
    "\n",
    "# Bartlett's test in Python with SciPy:\n",
    "stat, p = bartlett(No,Yes)\n",
    "\n",
    "# Get the results:\n",
    "print(stat, p)"
   ]
  },
  {
   "cell_type": "markdown",
   "metadata": {},
   "source": [
    " we cannot reject the null hypothesis as p value >0.05 and can, therefore, assume that the groups have equal variances. "
   ]
  },
  {
   "cell_type": "code",
   "execution_count": 83,
   "metadata": {},
   "outputs": [
    {
     "name": "stdout",
     "output_type": "stream",
     "text": [
      "0.08897018211304104 0.7654904606996155\n"
     ]
    }
   ],
   "source": [
    "\n",
    "# subsetting the data:\n",
    "No = df.query('Dependancies == \"No\"')['Salary']\n",
    "Yes = df.query('Dependancies == \"Yes\"')['Salary']\n",
    "\n",
    "# Bartlett's test in Python with SciPy:\n",
    "stat, p = bartlett(No,Yes)\n",
    "\n",
    "# Get the results:\n",
    "print(stat, p)"
   ]
  },
  {
   "cell_type": "markdown",
   "metadata": {},
   "source": [
    " we cannot reject the null hypothesis as p value >0.05 and can, therefore, assume that the groups have equal variances. "
   ]
  },
  {
   "cell_type": "code",
   "execution_count": 84,
   "metadata": {},
   "outputs": [
    {
     "name": "stdout",
     "output_type": "stream",
     "text": [
      "0.3138500676214659 0.5753271837977065\n"
     ]
    }
   ],
   "source": [
    "\n",
    "# subsetting the data:\n",
    "No = df.query('Calls == \"No\"')['Salary']\n",
    "Yes = df.query('Calls == \"Yes\"')['Salary']\n",
    "\n",
    "# Bartlett's test in Python with SciPy:\n",
    "stat, p = bartlett(No,Yes)\n",
    "\n",
    "# Get the results:\n",
    "print(stat, p)"
   ]
  },
  {
   "cell_type": "markdown",
   "metadata": {},
   "source": [
    " we cannot reject the null hypothesis as p value >0.05 and can, therefore, assume that the groups have equal variances. "
   ]
  },
  {
   "cell_type": "code",
   "execution_count": 85,
   "metadata": {},
   "outputs": [
    {
     "name": "stdout",
     "output_type": "stream",
     "text": [
      "1.9109872595069006 0.3846222367048766\n"
     ]
    }
   ],
   "source": [
    "\n",
    "# subsetting the data:\n",
    "MTM = df.query('Type == \"Month-to-month\"')['Salary']\n",
    "TY = df.query('Type == \"Two year\"')['Salary']\n",
    "OY = df.query('Type == \"One year\"')['Salary']\n",
    "\n",
    "# Bartlett's test in Python with SciPy:\n",
    "stat, p = bartlett(MTM,TY,OY)\n",
    "\n",
    "# Get the results:\n",
    "print(stat, p)"
   ]
  },
  {
   "cell_type": "markdown",
   "metadata": {},
   "source": [
    " we cannot reject the null hypothesis as p value >0.05 and can, therefore, assume that the groups have equal variances. "
   ]
  },
  {
   "cell_type": "code",
   "execution_count": 86,
   "metadata": {},
   "outputs": [
    {
     "name": "stdout",
     "output_type": "stream",
     "text": [
      "1.3237751774557593 0.24991564662808752\n"
     ]
    }
   ],
   "source": [
    "\n",
    "# subsetting the data:\n",
    "No = df.query('Billing == \"No\"')['Salary']\n",
    "Yes = df.query('Billing == \"Yes\"')['Salary']\n",
    "\n",
    "# Bartlett's test in Python with SciPy:\n",
    "stat, p = bartlett(No,Yes)\n",
    "\n",
    "# Get the results:\n",
    "print(stat, p)"
   ]
  },
  {
   "cell_type": "markdown",
   "metadata": {},
   "source": [
    " we cannot reject the null hypothesis as p value >0.05 and can, therefore, assume that the groups have equal variances. "
   ]
  },
  {
   "cell_type": "code",
   "execution_count": 87,
   "metadata": {},
   "outputs": [
    {
     "name": "stdout",
     "output_type": "stream",
     "text": [
      "0.0030645556723275036 0.9558529137961447\n"
     ]
    }
   ],
   "source": [
    "\n",
    "# subsetting the data:\n",
    "No = df.query('Rating == \"No\"')['Salary']\n",
    "Yes = df.query('Rating == \"Yes\"')['Salary']\n",
    "\n",
    "# Bartlett's test in Python with SciPy:\n",
    "stat, p = bartlett(No,Yes)\n",
    "\n",
    "# Get the results:\n",
    "print(stat, p)"
   ]
  },
  {
   "cell_type": "code",
   "execution_count": 88,
   "metadata": {},
   "outputs": [
    {
     "name": "stdout",
     "output_type": "stream",
     "text": [
      "148.52153501360772 3.648609113776498e-34\n"
     ]
    }
   ],
   "source": [
    "\n",
    "# subsetting the data:\n",
    "PG= df.query('Education == \"PG\"')['Salary']\n",
    "Graduation = df.query('Education == \"Graduation\"')['Salary']\n",
    "\n",
    "# Bartlett's test in Python with SciPy:\n",
    "stat, p = bartlett(PG,Graduation)\n",
    "\n",
    "# Get the results:\n",
    "print(stat, p)"
   ]
  },
  {
   "cell_type": "markdown",
   "metadata": {},
   "source": [
    " we cannot reject the null hypothesis as p value >0.05 and can, therefore, assume that the groups have equal variances. "
   ]
  },
  {
   "cell_type": "markdown",
   "metadata": {},
   "source": [
    "From Bartlett’s Test of Homogeneity of Variances we observe all the categorical variables are having equal variance in their samples. \n",
    "\n",
    "By looking at Box plots of categorical variables(except Education), though we have outliers we assume the variables are normally distributed as the mean and median are equal.\n",
    "\n",
    "Since Education does not follow normal distribution we cannot do t-test or Annova test."
   ]
  },
  {
   "cell_type": "markdown",
   "metadata": {},
   "source": [
    "# T-test"
   ]
  },
  {
   "cell_type": "markdown",
   "metadata": {},
   "source": [
    "The indepentent T-test is a parametric test used to test for a statistically significant difference in the means between 2 groups.\n",
    "\n",
    "\n",
    "Assumptions:\n",
    "\n",
    "*Scale of measurement applied to the data collected follows a continuous.\n",
    "\n",
    "*simple random sample.\n",
    "\n",
    "*when plotted, results in a normal distribution.\n",
    "\n",
    "*large sample size is used.\n",
    "\n",
    "*homogeneity of variance.\n",
    "\n",
    "\n",
    "As Our data meets with all the assumptions I have done T-test"
   ]
  },
  {
   "cell_type": "markdown",
   "metadata": {},
   "source": [
    "Null Hypothesis : The variable does not have an imapct on Salary.\n",
    "\n",
    "Alternative Hypothesis: There is a impact on Salary"
   ]
  },
  {
   "cell_type": "code",
   "execution_count": 89,
   "metadata": {},
   "outputs": [
    {
     "data": {
      "text/plain": [
       "Ttest_indResult(statistic=1.366662873873131, pvalue=0.17179247323476451)"
      ]
     },
     "execution_count": 89,
     "metadata": {},
     "output_type": "execute_result"
    }
   ],
   "source": [
    "from scipy import stats\n",
    "\n",
    "Male = df.query('Gender == \"Male\"')['Salary']\n",
    "Female = df.query('Gender == \"Female\"')['Salary']\n",
    "stats.ttest_ind(Male,Female,equal_var=True)"
   ]
  },
  {
   "cell_type": "code",
   "execution_count": 90,
   "metadata": {},
   "outputs": [
    {
     "data": {
      "text/plain": [
       "Ttest_indResult(statistic=1.3828274384053931, pvalue=0.16677955988361923)"
      ]
     },
     "execution_count": 90,
     "metadata": {},
     "output_type": "execute_result"
    }
   ],
   "source": [
    "#Business\n",
    "No = df.query('Business == \"0\"')['Salary']\n",
    "Yes = df.query('Business == \"1\"')['Salary']\n",
    "stats.ttest_ind(No,Yes,equal_var=True)"
   ]
  },
  {
   "cell_type": "code",
   "execution_count": 91,
   "metadata": {},
   "outputs": [
    {
     "data": {
      "text/plain": [
       "Ttest_indResult(statistic=-0.35235324641454563, pvalue=0.7245882168572502)"
      ]
     },
     "execution_count": 91,
     "metadata": {},
     "output_type": "execute_result"
    }
   ],
   "source": [
    "No = df.query('Dependancies == \"No\"')['Salary']\n",
    "Yes = df.query('Dependancies == \"Yes\"')['Salary']\n",
    "stats.ttest_ind(No,Yes,equal_var=True)"
   ]
  },
  {
   "cell_type": "code",
   "execution_count": 92,
   "metadata": {},
   "outputs": [
    {
     "data": {
      "text/plain": [
       "Ttest_indResult(statistic=-2.1930579258234846, pvalue=0.028349124923493483)"
      ]
     },
     "execution_count": 92,
     "metadata": {},
     "output_type": "execute_result"
    }
   ],
   "source": [
    "No = df.query('Calls == \"No\"')['Salary']\n",
    "Yes = df.query('Calls == \"Yes\"')['Salary']\n",
    "stats.ttest_ind(No,Yes,equal_var=True)"
   ]
  },
  {
   "cell_type": "code",
   "execution_count": 93,
   "metadata": {},
   "outputs": [
    {
     "data": {
      "text/plain": [
       "Ttest_indResult(statistic=-0.5971844740812096, pvalue=0.5504112757368369)"
      ]
     },
     "execution_count": 93,
     "metadata": {},
     "output_type": "execute_result"
    }
   ],
   "source": [
    "No = df.query('Billing == \"No\"')['Salary']\n",
    "Yes = df.query('Billing == \"Yes\"')['Salary']\n",
    "stats.ttest_ind(No,Yes,equal_var=True)"
   ]
  },
  {
   "cell_type": "code",
   "execution_count": 94,
   "metadata": {},
   "outputs": [
    {
     "data": {
      "text/plain": [
       "Ttest_indResult(statistic=-0.751536339717643, pvalue=0.4523653251611175)"
      ]
     },
     "execution_count": 94,
     "metadata": {},
     "output_type": "execute_result"
    }
   ],
   "source": [
    "No = df.query('Rating == \"No\"')['Salary']\n",
    "Yes = df.query('Rating == \"Yes\"')['Salary']\n",
    "stats.ttest_ind(No,Yes,equal_var=True)"
   ]
  },
  {
   "cell_type": "markdown",
   "metadata": {},
   "source": [
    "From the above t test:\n",
    "we cannot reject the null hypothesis as p value >0.05 and can, therefore, assume that the Gender,Business,Dependancies,Billing, Rating has no impact on Salary.\n",
    "\n",
    "And since calls has p value < 0.05 we reject null hypothesis. And So, we can say Calls has impact on Salary\n"
   ]
  },
  {
   "cell_type": "code",
   "execution_count": 95,
   "metadata": {},
   "outputs": [
    {
     "data": {
      "image/png": "[encoded data removed]",
      "text/plain": [
       "<Figure size 864x720 with 2 Axes>"
      ]
     },
     "metadata": {
      "needs_background": "light"
     },
     "output_type": "display_data"
    }
   ],
   "source": [
    "plt.figure(figsize=(12,10))\n",
    "sns.heatmap(Numeric_col.corr(method='spearman'),annot=True)\n",
    "  \n",
    "# displaying the plotted heatmap\n",
    "plt.show()"
   ]
  },
  {
   "cell_type": "markdown",
   "metadata": {},
   "source": [
    "Since our data have a non-Gaussian distribution. And Spearman Rank correlation works good with both linear and non linear data, I have preffered this. \n",
    "Salary has high postive correlation with Basepay,bonus,Total sales,unit sales ,low.  and Negative correlation with Volume.\n",
    "There might me multicollinearity in data."
   ]
  },
  {
   "cell_type": "markdown",
   "metadata": {},
   "source": [
    "From the above T-test and from visualization of boxplot w.r.t Salary We can observe that Business,Dependancies,Billing,Gender,Calls,Rating does not have an impact on Salary. So removing these variables from the data"
   ]
  },
  {
   "cell_type": "code",
   "execution_count": 96,
   "metadata": {},
   "outputs": [],
   "source": [
    "\n",
    "df=df.drop(['Business','Dependancies','Billing','Gender','Type','Rating'], axis = 1)\n"
   ]
  },
  {
   "cell_type": "code",
   "execution_count": 97,
   "metadata": {},
   "outputs": [],
   "source": [
    "#one hot encoding\n",
    "df=pd.get_dummies(df, columns = ['Education'])\n",
    "df=pd.get_dummies(df,columns=['Calls'])"
   ]
  },
  {
   "cell_type": "code",
   "execution_count": 98,
   "metadata": {},
   "outputs": [
    {
     "data": {
      "text/html": [
       "<div>\n",
       "<style scoped>\n",
       "    .dataframe tbody tr th:only-of-type {\n",
       "        vertical-align: middle;\n",
       "    }\n",
       "\n",
       "    .dataframe tbody tr th {\n",
       "        vertical-align: top;\n",
       "    }\n",
       "\n",
       "    .dataframe thead th {\n",
       "        text-align: right;\n",
       "    }\n",
       "</style>\n",
       "<table border=\"1\" class=\"dataframe\">\n",
       "  <thead>\n",
       "    <tr style=\"text-align: right;\">\n",
       "      <th></th>\n",
       "      <th>Age</th>\n",
       "      <th>Salary</th>\n",
       "      <th>Base_pay</th>\n",
       "      <th>Bonus</th>\n",
       "      <th>Unit_Price</th>\n",
       "      <th>Volume</th>\n",
       "      <th>closingbalance</th>\n",
       "      <th>low</th>\n",
       "      <th>Unit_Sales</th>\n",
       "      <th>Total_Sales</th>\n",
       "      <th>Months</th>\n",
       "      <th>Education_Graduation</th>\n",
       "      <th>Education_PG</th>\n",
       "      <th>Calls_No</th>\n",
       "      <th>Calls_Yes</th>\n",
       "    </tr>\n",
       "  </thead>\n",
       "  <tbody>\n",
       "    <tr>\n",
       "      <th>0</th>\n",
       "      <td>18</td>\n",
       "      <td>68550.37362</td>\n",
       "      <td>27657.468574</td>\n",
       "      <td>254.4500</td>\n",
       "      <td>2.811028</td>\n",
       "      <td>21226600</td>\n",
       "      <td>2.666985</td>\n",
       "      <td>3.65</td>\n",
       "      <td>2.904165</td>\n",
       "      <td>2.933857</td>\n",
       "      <td>0</td>\n",
       "      <td>1</td>\n",
       "      <td>0</td>\n",
       "      <td>0</td>\n",
       "      <td>1</td>\n",
       "    </tr>\n",
       "    <tr>\n",
       "      <th>1</th>\n",
       "      <td>19</td>\n",
       "      <td>68550.37362</td>\n",
       "      <td>27657.468574</td>\n",
       "      <td>284.9060</td>\n",
       "      <td>2.811028</td>\n",
       "      <td>10462800</td>\n",
       "      <td>2.666985</td>\n",
       "      <td>3.65</td>\n",
       "      <td>2.912351</td>\n",
       "      <td>2.936513</td>\n",
       "      <td>0</td>\n",
       "      <td>1</td>\n",
       "      <td>0</td>\n",
       "      <td>0</td>\n",
       "      <td>1</td>\n",
       "    </tr>\n",
       "    <tr>\n",
       "      <th>2</th>\n",
       "      <td>22</td>\n",
       "      <td>68550.37362</td>\n",
       "      <td>27657.468574</td>\n",
       "      <td>294.8325</td>\n",
       "      <td>2.811028</td>\n",
       "      <td>18761000</td>\n",
       "      <td>2.666985</td>\n",
       "      <td>3.72</td>\n",
       "      <td>2.928524</td>\n",
       "      <td>2.939162</td>\n",
       "      <td>0</td>\n",
       "      <td>1</td>\n",
       "      <td>0</td>\n",
       "      <td>0</td>\n",
       "      <td>1</td>\n",
       "    </tr>\n",
       "    <tr>\n",
       "      <th>3</th>\n",
       "      <td>21</td>\n",
       "      <td>68550.37362</td>\n",
       "      <td>27657.468574</td>\n",
       "      <td>306.2560</td>\n",
       "      <td>2.811028</td>\n",
       "      <td>66130600</td>\n",
       "      <td>2.666985</td>\n",
       "      <td>3.83</td>\n",
       "      <td>2.931194</td>\n",
       "      <td>2.944439</td>\n",
       "      <td>0</td>\n",
       "      <td>1</td>\n",
       "      <td>0</td>\n",
       "      <td>0</td>\n",
       "      <td>1</td>\n",
       "    </tr>\n",
       "    <tr>\n",
       "      <th>4</th>\n",
       "      <td>23</td>\n",
       "      <td>68550.37362</td>\n",
       "      <td>27657.468574</td>\n",
       "      <td>312.2500</td>\n",
       "      <td>2.811028</td>\n",
       "      <td>26868200</td>\n",
       "      <td>2.666985</td>\n",
       "      <td>4.08</td>\n",
       "      <td>2.933857</td>\n",
       "      <td>2.947067</td>\n",
       "      <td>1</td>\n",
       "      <td>1</td>\n",
       "      <td>0</td>\n",
       "      <td>0</td>\n",
       "      <td>1</td>\n",
       "    </tr>\n",
       "  </tbody>\n",
       "</table>\n",
       "</div>"
      ],
      "text/plain": [
       "   Age       Salary      Base_pay     Bonus  Unit_Price    Volume  \\\n",
       "0   18  68550.37362  27657.468574  254.4500    2.811028  21226600   \n",
       "1   19  68550.37362  27657.468574  284.9060    2.811028  10462800   \n",
       "2   22  68550.37362  27657.468574  294.8325    2.811028  18761000   \n",
       "3   21  68550.37362  27657.468574  306.2560    2.811028  66130600   \n",
       "4   23  68550.37362  27657.468574  312.2500    2.811028  26868200   \n",
       "\n",
       "   closingbalance   low  Unit_Sales  Total_Sales  Months  \\\n",
       "0        2.666985  3.65    2.904165     2.933857       0   \n",
       "1        2.666985  3.65    2.912351     2.936513       0   \n",
       "2        2.666985  3.72    2.928524     2.939162       0   \n",
       "3        2.666985  3.83    2.931194     2.944439       0   \n",
       "4        2.666985  4.08    2.933857     2.947067       1   \n",
       "\n",
       "   Education_Graduation  Education_PG  Calls_No  Calls_Yes  \n",
       "0                     1             0         0          1  \n",
       "1                     1             0         0          1  \n",
       "2                     1             0         0          1  \n",
       "3                     1             0         0          1  \n",
       "4                     1             0         0          1  "
      ]
     },
     "execution_count": 98,
     "metadata": {},
     "output_type": "execute_result"
    }
   ],
   "source": [
    "df.head()"
   ]
  },
  {
   "cell_type": "code",
   "execution_count": 99,
   "metadata": {},
   "outputs": [
    {
     "name": "stdout",
     "output_type": "stream",
     "text": [
      "<class 'pandas.core.frame.DataFrame'>\n",
      "Int64Index: 5000 entries, 0 to 4999\n",
      "Data columns (total 15 columns):\n",
      " #   Column                Non-Null Count  Dtype  \n",
      "---  ------                --------------  -----  \n",
      " 0   Age                   5000 non-null   int64  \n",
      " 1   Salary                5000 non-null   float64\n",
      " 2   Base_pay              5000 non-null   float64\n",
      " 3   Bonus                 5000 non-null   float64\n",
      " 4   Unit_Price            5000 non-null   float64\n",
      " 5   Volume                5000 non-null   int64  \n",
      " 6   closingbalance        5000 non-null   float64\n",
      " 7   low                   5000 non-null   float64\n",
      " 8   Unit_Sales            5000 non-null   float64\n",
      " 9   Total_Sales           5000 non-null   float64\n",
      " 10  Months                5000 non-null   int64  \n",
      " 11  Education_Graduation  5000 non-null   uint8  \n",
      " 12  Education_PG          5000 non-null   uint8  \n",
      " 13  Calls_No              5000 non-null   uint8  \n",
      " 14  Calls_Yes             5000 non-null   uint8  \n",
      "dtypes: float64(8), int64(3), uint8(4)\n",
      "memory usage: 488.3 KB\n"
     ]
    }
   ],
   "source": [
    "df.info()"
   ]
  },
  {
   "cell_type": "markdown",
   "metadata": {},
   "source": [
    "After cleaning we do not see missing values and also all the variables are converted to numerical."
   ]
  },
  {
   "cell_type": "markdown",
   "metadata": {},
   "source": [
    "# Selecting dependent (y) and independent (X) variables"
   ]
  },
  {
   "cell_type": "code",
   "execution_count": 100,
   "metadata": {},
   "outputs": [],
   "source": [
    "X=df.loc[:, df.columns != 'Salary']\n",
    "y=df['Salary']"
   ]
  },
  {
   "cell_type": "code",
   "execution_count": 101,
   "metadata": {},
   "outputs": [
    {
     "data": {
      "text/html": [
       "<div>\n",
       "<style scoped>\n",
       "    .dataframe tbody tr th:only-of-type {\n",
       "        vertical-align: middle;\n",
       "    }\n",
       "\n",
       "    .dataframe tbody tr th {\n",
       "        vertical-align: top;\n",
       "    }\n",
       "\n",
       "    .dataframe thead th {\n",
       "        text-align: right;\n",
       "    }\n",
       "</style>\n",
       "<table border=\"1\" class=\"dataframe\">\n",
       "  <thead>\n",
       "    <tr style=\"text-align: right;\">\n",
       "      <th></th>\n",
       "      <th>Age</th>\n",
       "      <th>Base_pay</th>\n",
       "      <th>Bonus</th>\n",
       "      <th>Unit_Price</th>\n",
       "      <th>Volume</th>\n",
       "      <th>closingbalance</th>\n",
       "      <th>low</th>\n",
       "      <th>Unit_Sales</th>\n",
       "      <th>Total_Sales</th>\n",
       "      <th>Months</th>\n",
       "      <th>Education_Graduation</th>\n",
       "      <th>Education_PG</th>\n",
       "      <th>Calls_No</th>\n",
       "      <th>Calls_Yes</th>\n",
       "    </tr>\n",
       "  </thead>\n",
       "  <tbody>\n",
       "    <tr>\n",
       "      <th>0</th>\n",
       "      <td>18</td>\n",
       "      <td>27657.468574</td>\n",
       "      <td>254.4500</td>\n",
       "      <td>2.811028</td>\n",
       "      <td>21226600</td>\n",
       "      <td>2.666985</td>\n",
       "      <td>3.65</td>\n",
       "      <td>2.904165</td>\n",
       "      <td>2.933857</td>\n",
       "      <td>0</td>\n",
       "      <td>1</td>\n",
       "      <td>0</td>\n",
       "      <td>0</td>\n",
       "      <td>1</td>\n",
       "    </tr>\n",
       "    <tr>\n",
       "      <th>1</th>\n",
       "      <td>19</td>\n",
       "      <td>27657.468574</td>\n",
       "      <td>284.9060</td>\n",
       "      <td>2.811028</td>\n",
       "      <td>10462800</td>\n",
       "      <td>2.666985</td>\n",
       "      <td>3.65</td>\n",
       "      <td>2.912351</td>\n",
       "      <td>2.936513</td>\n",
       "      <td>0</td>\n",
       "      <td>1</td>\n",
       "      <td>0</td>\n",
       "      <td>0</td>\n",
       "      <td>1</td>\n",
       "    </tr>\n",
       "    <tr>\n",
       "      <th>2</th>\n",
       "      <td>22</td>\n",
       "      <td>27657.468574</td>\n",
       "      <td>294.8325</td>\n",
       "      <td>2.811028</td>\n",
       "      <td>18761000</td>\n",
       "      <td>2.666985</td>\n",
       "      <td>3.72</td>\n",
       "      <td>2.928524</td>\n",
       "      <td>2.939162</td>\n",
       "      <td>0</td>\n",
       "      <td>1</td>\n",
       "      <td>0</td>\n",
       "      <td>0</td>\n",
       "      <td>1</td>\n",
       "    </tr>\n",
       "    <tr>\n",
       "      <th>3</th>\n",
       "      <td>21</td>\n",
       "      <td>27657.468574</td>\n",
       "      <td>306.2560</td>\n",
       "      <td>2.811028</td>\n",
       "      <td>66130600</td>\n",
       "      <td>2.666985</td>\n",
       "      <td>3.83</td>\n",
       "      <td>2.931194</td>\n",
       "      <td>2.944439</td>\n",
       "      <td>0</td>\n",
       "      <td>1</td>\n",
       "      <td>0</td>\n",
       "      <td>0</td>\n",
       "      <td>1</td>\n",
       "    </tr>\n",
       "    <tr>\n",
       "      <th>4</th>\n",
       "      <td>23</td>\n",
       "      <td>27657.468574</td>\n",
       "      <td>312.2500</td>\n",
       "      <td>2.811028</td>\n",
       "      <td>26868200</td>\n",
       "      <td>2.666985</td>\n",
       "      <td>4.08</td>\n",
       "      <td>2.933857</td>\n",
       "      <td>2.947067</td>\n",
       "      <td>1</td>\n",
       "      <td>1</td>\n",
       "      <td>0</td>\n",
       "      <td>0</td>\n",
       "      <td>1</td>\n",
       "    </tr>\n",
       "  </tbody>\n",
       "</table>\n",
       "</div>"
      ],
      "text/plain": [
       "   Age      Base_pay     Bonus  Unit_Price    Volume  closingbalance   low  \\\n",
       "0   18  27657.468574  254.4500    2.811028  21226600        2.666985  3.65   \n",
       "1   19  27657.468574  284.9060    2.811028  10462800        2.666985  3.65   \n",
       "2   22  27657.468574  294.8325    2.811028  18761000        2.666985  3.72   \n",
       "3   21  27657.468574  306.2560    2.811028  66130600        2.666985  3.83   \n",
       "4   23  27657.468574  312.2500    2.811028  26868200        2.666985  4.08   \n",
       "\n",
       "   Unit_Sales  Total_Sales  Months  Education_Graduation  Education_PG  \\\n",
       "0    2.904165     2.933857       0                     1             0   \n",
       "1    2.912351     2.936513       0                     1             0   \n",
       "2    2.928524     2.939162       0                     1             0   \n",
       "3    2.931194     2.944439       0                     1             0   \n",
       "4    2.933857     2.947067       1                     1             0   \n",
       "\n",
       "   Calls_No  Calls_Yes  \n",
       "0         0          1  \n",
       "1         0          1  \n",
       "2         0          1  \n",
       "3         0          1  \n",
       "4         0          1  "
      ]
     },
     "execution_count": 101,
     "metadata": {},
     "output_type": "execute_result"
    }
   ],
   "source": [
    "X.head()"
   ]
  },
  {
   "cell_type": "markdown",
   "metadata": {},
   "source": [
    "# Multicollinearity"
   ]
  },
  {
   "cell_type": "markdown",
   "metadata": {},
   "source": [
    "Multicollinearity occurs when independent variables in a regression model are correlated. This correlation is a problem because independent variables should be independent. If the degree of correlation between variables is high enough, it can cause problems when you fit the model and interpret the results."
   ]
  },
  {
   "cell_type": "markdown",
   "metadata": {},
   "source": [
    "Multicollinearity causes the following two basic types of problems:\n",
    "\n",
    "The coefficient estimates can swing wildly based on which other independent variables are in the model. The coefficients become very sensitive to small changes in the model.\n",
    "Multicollinearity reduces the precision of the estimated coefficients, which weakens the statistical power of your regression model."
   ]
  },
  {
   "cell_type": "code",
   "execution_count": 102,
   "metadata": {},
   "outputs": [],
   "source": [
    "Mc_X=df[df.columns.difference(['Calls_No','Calls_Yes', 'Education_Graduation','Education_PG','Salary'])]\n"
   ]
  },
  {
   "cell_type": "code",
   "execution_count": 103,
   "metadata": {},
   "outputs": [
    {
     "data": {
      "text/html": [
       "<div>\n",
       "<style scoped>\n",
       "    .dataframe tbody tr th:only-of-type {\n",
       "        vertical-align: middle;\n",
       "    }\n",
       "\n",
       "    .dataframe tbody tr th {\n",
       "        vertical-align: top;\n",
       "    }\n",
       "\n",
       "    .dataframe thead th {\n",
       "        text-align: right;\n",
       "    }\n",
       "</style>\n",
       "<table border=\"1\" class=\"dataframe\">\n",
       "  <thead>\n",
       "    <tr style=\"text-align: right;\">\n",
       "      <th></th>\n",
       "      <th>Age</th>\n",
       "      <th>Base_pay</th>\n",
       "      <th>Bonus</th>\n",
       "      <th>Months</th>\n",
       "      <th>Total_Sales</th>\n",
       "      <th>Unit_Price</th>\n",
       "      <th>Unit_Sales</th>\n",
       "      <th>Volume</th>\n",
       "      <th>closingbalance</th>\n",
       "      <th>low</th>\n",
       "    </tr>\n",
       "  </thead>\n",
       "  <tbody>\n",
       "    <tr>\n",
       "      <th>0</th>\n",
       "      <td>18</td>\n",
       "      <td>27657.468574</td>\n",
       "      <td>254.4500</td>\n",
       "      <td>0</td>\n",
       "      <td>2.933857</td>\n",
       "      <td>2.811028</td>\n",
       "      <td>2.904165</td>\n",
       "      <td>21226600</td>\n",
       "      <td>2.666985</td>\n",
       "      <td>3.65</td>\n",
       "    </tr>\n",
       "    <tr>\n",
       "      <th>1</th>\n",
       "      <td>19</td>\n",
       "      <td>27657.468574</td>\n",
       "      <td>284.9060</td>\n",
       "      <td>0</td>\n",
       "      <td>2.936513</td>\n",
       "      <td>2.811028</td>\n",
       "      <td>2.912351</td>\n",
       "      <td>10462800</td>\n",
       "      <td>2.666985</td>\n",
       "      <td>3.65</td>\n",
       "    </tr>\n",
       "    <tr>\n",
       "      <th>2</th>\n",
       "      <td>22</td>\n",
       "      <td>27657.468574</td>\n",
       "      <td>294.8325</td>\n",
       "      <td>0</td>\n",
       "      <td>2.939162</td>\n",
       "      <td>2.811028</td>\n",
       "      <td>2.928524</td>\n",
       "      <td>18761000</td>\n",
       "      <td>2.666985</td>\n",
       "      <td>3.72</td>\n",
       "    </tr>\n",
       "    <tr>\n",
       "      <th>3</th>\n",
       "      <td>21</td>\n",
       "      <td>27657.468574</td>\n",
       "      <td>306.2560</td>\n",
       "      <td>0</td>\n",
       "      <td>2.944439</td>\n",
       "      <td>2.811028</td>\n",
       "      <td>2.931194</td>\n",
       "      <td>66130600</td>\n",
       "      <td>2.666985</td>\n",
       "      <td>3.83</td>\n",
       "    </tr>\n",
       "    <tr>\n",
       "      <th>4</th>\n",
       "      <td>23</td>\n",
       "      <td>27657.468574</td>\n",
       "      <td>312.2500</td>\n",
       "      <td>1</td>\n",
       "      <td>2.947067</td>\n",
       "      <td>2.811028</td>\n",
       "      <td>2.933857</td>\n",
       "      <td>26868200</td>\n",
       "      <td>2.666985</td>\n",
       "      <td>4.08</td>\n",
       "    </tr>\n",
       "  </tbody>\n",
       "</table>\n",
       "</div>"
      ],
      "text/plain": [
       "   Age      Base_pay     Bonus  Months  Total_Sales  Unit_Price  Unit_Sales  \\\n",
       "0   18  27657.468574  254.4500       0     2.933857    2.811028    2.904165   \n",
       "1   19  27657.468574  284.9060       0     2.936513    2.811028    2.912351   \n",
       "2   22  27657.468574  294.8325       0     2.939162    2.811028    2.928524   \n",
       "3   21  27657.468574  306.2560       0     2.944439    2.811028    2.931194   \n",
       "4   23  27657.468574  312.2500       1     2.947067    2.811028    2.933857   \n",
       "\n",
       "     Volume  closingbalance   low  \n",
       "0  21226600        2.666985  3.65  \n",
       "1  10462800        2.666985  3.65  \n",
       "2  18761000        2.666985  3.72  \n",
       "3  66130600        2.666985  3.83  \n",
       "4  26868200        2.666985  4.08  "
      ]
     },
     "execution_count": 103,
     "metadata": {},
     "output_type": "execute_result"
    }
   ],
   "source": [
    "Mc_X.head()"
   ]
  },
  {
   "cell_type": "code",
   "execution_count": 104,
   "metadata": {},
   "outputs": [
    {
     "name": "stdout",
     "output_type": "stream",
     "text": [
      "          feature          VIF\n",
      "0             Age    45.082845\n",
      "1        Base_pay   704.662597\n",
      "2           Bonus   577.554795\n",
      "3          Months     9.326319\n",
      "4     Total_Sales   828.088133\n",
      "5      Unit_Price   134.786418\n",
      "6      Unit_Sales  1114.455904\n",
      "7          Volume     1.217816\n",
      "8  closingbalance    52.181366\n",
      "9             low    11.857493\n"
     ]
    }
   ],
   "source": [
    "from statsmodels.stats.outliers_influence import variance_inflation_factor\n",
    "\n",
    "# VIF dataframe\n",
    "vif_data = pd.DataFrame()\n",
    "vif_data[\"feature\"] = Mc_X.columns\n",
    "  \n",
    "# calculating VIF for each feature\n",
    "vif_data[\"VIF\"] = [variance_inflation_factor(Mc_X.values, i)\n",
    "                          for i in range(len(Mc_X.columns))]\n",
    "  \n",
    "print(vif_data)"
   ]
  },
  {
   "cell_type": "code",
   "execution_count": 105,
   "metadata": {},
   "outputs": [],
   "source": [
    "Mc_X=Mc_X.drop(['Unit_Sales'],axis=1)"
   ]
  },
  {
   "cell_type": "code",
   "execution_count": 106,
   "metadata": {},
   "outputs": [],
   "source": [
    "Mc_X=Mc_X.drop(['Total_Sales'],axis=1)"
   ]
  },
  {
   "cell_type": "code",
   "execution_count": 107,
   "metadata": {},
   "outputs": [],
   "source": [
    "Mc_X=Mc_X.drop(['Base_pay'],axis=1)"
   ]
  },
  {
   "cell_type": "code",
   "execution_count": 108,
   "metadata": {},
   "outputs": [],
   "source": [
    "Mc_X=Mc_X.drop(['Bonus'],axis=1)"
   ]
  },
  {
   "cell_type": "code",
   "execution_count": 109,
   "metadata": {},
   "outputs": [],
   "source": [
    "Mc_X=Mc_X.drop(['closingbalance'],axis=1)"
   ]
  },
  {
   "cell_type": "code",
   "execution_count": 110,
   "metadata": {},
   "outputs": [],
   "source": [
    "Mc_X=Mc_X.drop(['Unit_Price'],axis=1)"
   ]
  },
  {
   "cell_type": "markdown",
   "metadata": {},
   "source": [
    "We are not looking into Education and Class here as it is Categorical."
   ]
  },
  {
   "cell_type": "code",
   "execution_count": 111,
   "metadata": {},
   "outputs": [],
   "source": [
    "X=X.drop(['Bonus','Unit_Price','Unit_Sales','Base_pay','Total_Sales','closingbalance'], axis = 1)"
   ]
  },
  {
   "cell_type": "markdown",
   "metadata": {},
   "source": [
    "Dropped the variable with multicollinearity"
   ]
  },
  {
   "cell_type": "code",
   "execution_count": 112,
   "metadata": {},
   "outputs": [
    {
     "data": {
      "text/html": [
       "<div>\n",
       "<style scoped>\n",
       "    .dataframe tbody tr th:only-of-type {\n",
       "        vertical-align: middle;\n",
       "    }\n",
       "\n",
       "    .dataframe tbody tr th {\n",
       "        vertical-align: top;\n",
       "    }\n",
       "\n",
       "    .dataframe thead th {\n",
       "        text-align: right;\n",
       "    }\n",
       "</style>\n",
       "<table border=\"1\" class=\"dataframe\">\n",
       "  <thead>\n",
       "    <tr style=\"text-align: right;\">\n",
       "      <th></th>\n",
       "      <th>Age</th>\n",
       "      <th>Volume</th>\n",
       "      <th>low</th>\n",
       "      <th>Months</th>\n",
       "      <th>Education_Graduation</th>\n",
       "      <th>Education_PG</th>\n",
       "      <th>Calls_No</th>\n",
       "      <th>Calls_Yes</th>\n",
       "    </tr>\n",
       "  </thead>\n",
       "  <tbody>\n",
       "    <tr>\n",
       "      <th>0</th>\n",
       "      <td>18</td>\n",
       "      <td>21226600</td>\n",
       "      <td>3.65</td>\n",
       "      <td>0</td>\n",
       "      <td>1</td>\n",
       "      <td>0</td>\n",
       "      <td>0</td>\n",
       "      <td>1</td>\n",
       "    </tr>\n",
       "    <tr>\n",
       "      <th>1</th>\n",
       "      <td>19</td>\n",
       "      <td>10462800</td>\n",
       "      <td>3.65</td>\n",
       "      <td>0</td>\n",
       "      <td>1</td>\n",
       "      <td>0</td>\n",
       "      <td>0</td>\n",
       "      <td>1</td>\n",
       "    </tr>\n",
       "    <tr>\n",
       "      <th>2</th>\n",
       "      <td>22</td>\n",
       "      <td>18761000</td>\n",
       "      <td>3.72</td>\n",
       "      <td>0</td>\n",
       "      <td>1</td>\n",
       "      <td>0</td>\n",
       "      <td>0</td>\n",
       "      <td>1</td>\n",
       "    </tr>\n",
       "    <tr>\n",
       "      <th>3</th>\n",
       "      <td>21</td>\n",
       "      <td>66130600</td>\n",
       "      <td>3.83</td>\n",
       "      <td>0</td>\n",
       "      <td>1</td>\n",
       "      <td>0</td>\n",
       "      <td>0</td>\n",
       "      <td>1</td>\n",
       "    </tr>\n",
       "    <tr>\n",
       "      <th>4</th>\n",
       "      <td>23</td>\n",
       "      <td>26868200</td>\n",
       "      <td>4.08</td>\n",
       "      <td>1</td>\n",
       "      <td>1</td>\n",
       "      <td>0</td>\n",
       "      <td>0</td>\n",
       "      <td>1</td>\n",
       "    </tr>\n",
       "  </tbody>\n",
       "</table>\n",
       "</div>"
      ],
      "text/plain": [
       "   Age    Volume   low  Months  Education_Graduation  Education_PG  Calls_No  \\\n",
       "0   18  21226600  3.65       0                     1             0         0   \n",
       "1   19  10462800  3.65       0                     1             0         0   \n",
       "2   22  18761000  3.72       0                     1             0         0   \n",
       "3   21  66130600  3.83       0                     1             0         0   \n",
       "4   23  26868200  4.08       1                     1             0         0   \n",
       "\n",
       "   Calls_Yes  \n",
       "0          1  \n",
       "1          1  \n",
       "2          1  \n",
       "3          1  \n",
       "4          1  "
      ]
     },
     "execution_count": 112,
     "metadata": {},
     "output_type": "execute_result"
    }
   ],
   "source": [
    "#data after dropping variables\n",
    "X.head()"
   ]
  },
  {
   "cell_type": "markdown",
   "metadata": {},
   "source": [
    "# Splitting data into train and test"
   ]
  },
  {
   "cell_type": "markdown",
   "metadata": {},
   "source": [
    "The procedure involves taking a dataset and dividing it into two subsets. The first subset is used to fit the model and is referred to as the training dataset. The second subset is not used to train the model; instead, the input element of the dataset is provided to the model, then predictions are made and compared to the expected values. This second dataset is referred to as the test dataset."
   ]
  },
  {
   "cell_type": "code",
   "execution_count": 113,
   "metadata": {},
   "outputs": [],
   "source": [
    "\n",
    "from sklearn.model_selection import train_test_split\n",
    "X_train, X_test, y_train, y_test = train_test_split(X,y, test_size=0.20, random_state=42)"
   ]
  },
  {
   "cell_type": "markdown",
   "metadata": {},
   "source": [
    "# Standardization"
   ]
  },
  {
   "cell_type": "markdown",
   "metadata": {},
   "source": [
    "Standardization ensures that the end product has consistent quality and that any conclusions made are comparable with all other equivalent variables in the same data."
   ]
  },
  {
   "cell_type": "code",
   "execution_count": 114,
   "metadata": {},
   "outputs": [],
   "source": [
    "#scaling_data=['Unit_Price','Volume','low','Months','Age','closingbalance']"
   ]
  },
  {
   "cell_type": "code",
   "execution_count": 115,
   "metadata": {},
   "outputs": [],
   "source": [
    "scaling_data=['Volume','low','Months','Age']"
   ]
  },
  {
   "cell_type": "code",
   "execution_count": 116,
   "metadata": {},
   "outputs": [
    {
     "name": "stderr",
     "output_type": "stream",
     "text": [
      "<ipython-input-116-6bc30c46421c>:4: SettingWithCopyWarning: \n",
      "A value is trying to be set on a copy of a slice from a DataFrame.\n",
      "Try using .loc[row_indexer,col_indexer] = value instead\n",
      "\n",
      "See the caveats in the documentation: https://pandas.pydata.org/pandas-docs/stable/user_guide/indexing.html#returning-a-view-versus-a-copy\n",
      "  X_train[scaling_data]=scaler.fit_transform(X_train[scaling_data])\n",
      "C:\\Users\\chinna\\anaconda3\\lib\\site-packages\\pandas\\core\\indexing.py:966: SettingWithCopyWarning: \n",
      "A value is trying to be set on a copy of a slice from a DataFrame.\n",
      "Try using .loc[row_indexer,col_indexer] = value instead\n",
      "\n",
      "See the caveats in the documentation: https://pandas.pydata.org/pandas-docs/stable/user_guide/indexing.html#returning-a-view-versus-a-copy\n",
      "  self.obj[item] = s\n",
      "<ipython-input-116-6bc30c46421c>:5: SettingWithCopyWarning: \n",
      "A value is trying to be set on a copy of a slice from a DataFrame.\n",
      "Try using .loc[row_indexer,col_indexer] = value instead\n",
      "\n",
      "See the caveats in the documentation: https://pandas.pydata.org/pandas-docs/stable/user_guide/indexing.html#returning-a-view-versus-a-copy\n",
      "  X_test[scaling_data]=scaler.fit_transform(X_test[scaling_data])\n",
      "C:\\Users\\chinna\\anaconda3\\lib\\site-packages\\pandas\\core\\indexing.py:966: SettingWithCopyWarning: \n",
      "A value is trying to be set on a copy of a slice from a DataFrame.\n",
      "Try using .loc[row_indexer,col_indexer] = value instead\n",
      "\n",
      "See the caveats in the documentation: https://pandas.pydata.org/pandas-docs/stable/user_guide/indexing.html#returning-a-view-versus-a-copy\n",
      "  self.obj[item] = s\n"
     ]
    }
   ],
   "source": [
    "#importing library StandardScaler\n",
    "from sklearn.preprocessing import StandardScaler\n",
    "scaler=StandardScaler()\n",
    "X_train[scaling_data]=scaler.fit_transform(X_train[scaling_data])\n",
    "X_test[scaling_data]=scaler.fit_transform(X_test[scaling_data])"
   ]
  },
  {
   "cell_type": "code",
   "execution_count": 117,
   "metadata": {},
   "outputs": [
    {
     "data": {
      "text/html": [
       "<div>\n",
       "<style scoped>\n",
       "    .dataframe tbody tr th:only-of-type {\n",
       "        vertical-align: middle;\n",
       "    }\n",
       "\n",
       "    .dataframe tbody tr th {\n",
       "        vertical-align: top;\n",
       "    }\n",
       "\n",
       "    .dataframe thead th {\n",
       "        text-align: right;\n",
       "    }\n",
       "</style>\n",
       "<table border=\"1\" class=\"dataframe\">\n",
       "  <thead>\n",
       "    <tr style=\"text-align: right;\">\n",
       "      <th></th>\n",
       "      <th>Age</th>\n",
       "      <th>Volume</th>\n",
       "      <th>low</th>\n",
       "      <th>Months</th>\n",
       "      <th>Education_Graduation</th>\n",
       "      <th>Education_PG</th>\n",
       "      <th>Calls_No</th>\n",
       "      <th>Calls_Yes</th>\n",
       "    </tr>\n",
       "  </thead>\n",
       "  <tbody>\n",
       "    <tr>\n",
       "      <th>4227</th>\n",
       "      <td>1.186523</td>\n",
       "      <td>-0.088146</td>\n",
       "      <td>0.528571</td>\n",
       "      <td>1.087494</td>\n",
       "      <td>0</td>\n",
       "      <td>1</td>\n",
       "      <td>0</td>\n",
       "      <td>1</td>\n",
       "    </tr>\n",
       "    <tr>\n",
       "      <th>4676</th>\n",
       "      <td>0.249925</td>\n",
       "      <td>-0.387887</td>\n",
       "      <td>1.832013</td>\n",
       "      <td>1.533724</td>\n",
       "      <td>0</td>\n",
       "      <td>1</td>\n",
       "      <td>0</td>\n",
       "      <td>1</td>\n",
       "    </tr>\n",
       "    <tr>\n",
       "      <th>800</th>\n",
       "      <td>0.484075</td>\n",
       "      <td>-0.258548</td>\n",
       "      <td>-0.708989</td>\n",
       "      <td>0.357299</td>\n",
       "      <td>1</td>\n",
       "      <td>0</td>\n",
       "      <td>0</td>\n",
       "      <td>1</td>\n",
       "    </tr>\n",
       "    <tr>\n",
       "      <th>3671</th>\n",
       "      <td>0.718224</td>\n",
       "      <td>-0.136628</td>\n",
       "      <td>0.176193</td>\n",
       "      <td>0.438431</td>\n",
       "      <td>1</td>\n",
       "      <td>0</td>\n",
       "      <td>0</td>\n",
       "      <td>1</td>\n",
       "    </tr>\n",
       "    <tr>\n",
       "      <th>4193</th>\n",
       "      <td>0.835299</td>\n",
       "      <td>-0.326799</td>\n",
       "      <td>0.507363</td>\n",
       "      <td>1.046927</td>\n",
       "      <td>0</td>\n",
       "      <td>1</td>\n",
       "      <td>0</td>\n",
       "      <td>1</td>\n",
       "    </tr>\n",
       "  </tbody>\n",
       "</table>\n",
       "</div>"
      ],
      "text/plain": [
       "           Age    Volume       low    Months  Education_Graduation  \\\n",
       "4227  1.186523 -0.088146  0.528571  1.087494                     0   \n",
       "4676  0.249925 -0.387887  1.832013  1.533724                     0   \n",
       "800   0.484075 -0.258548 -0.708989  0.357299                     1   \n",
       "3671  0.718224 -0.136628  0.176193  0.438431                     1   \n",
       "4193  0.835299 -0.326799  0.507363  1.046927                     0   \n",
       "\n",
       "      Education_PG  Calls_No  Calls_Yes  \n",
       "4227             1         0          1  \n",
       "4676             1         0          1  \n",
       "800              0         0          1  \n",
       "3671             0         0          1  \n",
       "4193             1         0          1  "
      ]
     },
     "execution_count": 117,
     "metadata": {},
     "output_type": "execute_result"
    }
   ],
   "source": [
    "X_train.head()"
   ]
  },
  {
   "cell_type": "code",
   "execution_count": 142,
   "metadata": {},
   "outputs": [
    {
     "name": "stdout",
     "output_type": "stream",
     "text": [
      "<class 'pandas.core.frame.DataFrame'>\n",
      "Int64Index: 4000 entries, 4227 to 860\n",
      "Data columns (total 8 columns):\n",
      " #   Column                Non-Null Count  Dtype  \n",
      "---  ------                --------------  -----  \n",
      " 0   Age                   4000 non-null   float64\n",
      " 1   Volume                4000 non-null   float64\n",
      " 2   low                   4000 non-null   float64\n",
      " 3   Months                4000 non-null   float64\n",
      " 4   Education_Graduation  4000 non-null   uint8  \n",
      " 5   Education_PG          4000 non-null   uint8  \n",
      " 6   Calls_No              4000 non-null   uint8  \n",
      " 7   Calls_Yes             4000 non-null   uint8  \n",
      "dtypes: float64(4), uint8(4)\n",
      "memory usage: 171.9 KB\n"
     ]
    }
   ],
   "source": [
    "X_train.info()"
   ]
  },
  {
   "cell_type": "markdown",
   "metadata": {},
   "source": [
    "# Model Building"
   ]
  },
  {
   "cell_type": "markdown",
   "metadata": {},
   "source": [
    "# Linear Regression"
   ]
  },
  {
   "cell_type": "markdown",
   "metadata": {},
   "source": [
    "Multiple linear regression attempts to model the relationship between two or more explanatory variables and a response variable by fitting a linear equation to observed data. Every value of the independent variable x is associated with a value of the dependent variable y"
   ]
  },
  {
   "cell_type": "code",
   "execution_count": 143,
   "metadata": {},
   "outputs": [],
   "source": [
    "\n",
    "from sklearn.linear_model import LinearRegression\n",
    "lm=LinearRegression()\n",
    "model=lm.fit(X_train,y_train)\n",
    "\n",
    "#prediction\n",
    "y_predLR=model.predict(X_test)"
   ]
  },
  {
   "cell_type": "code",
   "execution_count": 144,
   "metadata": {},
   "outputs": [
    {
     "data": {
      "text/plain": [
       "0.6296379048771725"
      ]
     },
     "execution_count": 144,
     "metadata": {},
     "output_type": "execute_result"
    }
   ],
   "source": [
    "from sklearn.metrics import r2_score\n",
    "\n",
    "r2_score(y_test,y_predLR)"
   ]
  },
  {
   "cell_type": "markdown",
   "metadata": {},
   "source": [
    "62% percent of Variance of dependent variable explained by the varirance of independent variables "
   ]
  },
  {
   "cell_type": "markdown",
   "metadata": {},
   "source": [
    "The adjusted R-squared is a modified version of R-squared that has been adjusted for the number of predictors in the model. The adjusted R-squared increases only if the new term improves the model more than would be expected by chance. It decreases when a predictor improves the model by less than expected by chance. The adjusted R-squared can be negative, but it’s usually not.  It is always lower than the R-squared."
   ]
  },
  {
   "cell_type": "code",
   "execution_count": 145,
   "metadata": {},
   "outputs": [
    {
     "data": {
      "text/plain": [
       "0.6266480998711356"
      ]
     },
     "execution_count": 145,
     "metadata": {},
     "output_type": "execute_result"
    }
   ],
   "source": [
    "#Adjusted r score\n",
    "r2=r2_score(y_test,y_predLR)\n",
    "n = len(y_predLR)\n",
    "p = X_test.shape[1]\n",
    "adj_r = 1 - ((1 - r2) * (n - 1)) / (n - p - 1)\n",
    "adj_r"
   ]
  },
  {
   "cell_type": "code",
   "execution_count": 146,
   "metadata": {},
   "outputs": [
    {
     "data": {
      "text/html": [
       "<div>\n",
       "<style scoped>\n",
       "    .dataframe tbody tr th:only-of-type {\n",
       "        vertical-align: middle;\n",
       "    }\n",
       "\n",
       "    .dataframe tbody tr th {\n",
       "        vertical-align: top;\n",
       "    }\n",
       "\n",
       "    .dataframe thead th {\n",
       "        text-align: right;\n",
       "    }\n",
       "</style>\n",
       "<table border=\"1\" class=\"dataframe\">\n",
       "  <thead>\n",
       "    <tr style=\"text-align: right;\">\n",
       "      <th></th>\n",
       "      <th>Actual</th>\n",
       "      <th>Predictions</th>\n",
       "      <th>Abs Error</th>\n",
       "    </tr>\n",
       "  </thead>\n",
       "  <tbody>\n",
       "    <tr>\n",
       "      <th>1501</th>\n",
       "      <td>87840.04783</td>\n",
       "      <td>88815.164683</td>\n",
       "      <td>975.116853</td>\n",
       "    </tr>\n",
       "    <tr>\n",
       "      <th>2586</th>\n",
       "      <td>101696.94250</td>\n",
       "      <td>93006.042458</td>\n",
       "      <td>8690.900042</td>\n",
       "    </tr>\n",
       "    <tr>\n",
       "      <th>2653</th>\n",
       "      <td>102526.10000</td>\n",
       "      <td>96197.495287</td>\n",
       "      <td>6328.604713</td>\n",
       "    </tr>\n",
       "    <tr>\n",
       "      <th>1055</th>\n",
       "      <td>80952.27759</td>\n",
       "      <td>95030.790965</td>\n",
       "      <td>14078.513375</td>\n",
       "    </tr>\n",
       "    <tr>\n",
       "      <th>705</th>\n",
       "      <td>74646.47280</td>\n",
       "      <td>90998.154862</td>\n",
       "      <td>16351.682062</td>\n",
       "    </tr>\n",
       "    <tr>\n",
       "      <th>...</th>\n",
       "      <td>...</td>\n",
       "      <td>...</td>\n",
       "      <td>...</td>\n",
       "    </tr>\n",
       "    <tr>\n",
       "      <th>4711</th>\n",
       "      <td>131232.04457</td>\n",
       "      <td>132340.800155</td>\n",
       "      <td>1108.755585</td>\n",
       "    </tr>\n",
       "    <tr>\n",
       "      <th>2313</th>\n",
       "      <td>98455.87126</td>\n",
       "      <td>94229.653751</td>\n",
       "      <td>4226.217509</td>\n",
       "    </tr>\n",
       "    <tr>\n",
       "      <th>3214</th>\n",
       "      <td>109603.85170</td>\n",
       "      <td>98845.394240</td>\n",
       "      <td>10758.457460</td>\n",
       "    </tr>\n",
       "    <tr>\n",
       "      <th>2732</th>\n",
       "      <td>103369.50500</td>\n",
       "      <td>94714.603779</td>\n",
       "      <td>8654.901221</td>\n",
       "    </tr>\n",
       "    <tr>\n",
       "      <th>1926</th>\n",
       "      <td>93981.34377</td>\n",
       "      <td>91878.129123</td>\n",
       "      <td>2103.214647</td>\n",
       "    </tr>\n",
       "  </tbody>\n",
       "</table>\n",
       "<p>1000 rows × 3 columns</p>\n",
       "</div>"
      ],
      "text/plain": [
       "            Actual    Predictions     Abs Error\n",
       "1501   87840.04783   88815.164683    975.116853\n",
       "2586  101696.94250   93006.042458   8690.900042\n",
       "2653  102526.10000   96197.495287   6328.604713\n",
       "1055   80952.27759   95030.790965  14078.513375\n",
       "705    74646.47280   90998.154862  16351.682062\n",
       "...            ...            ...           ...\n",
       "4711  131232.04457  132340.800155   1108.755585\n",
       "2313   98455.87126   94229.653751   4226.217509\n",
       "3214  109603.85170   98845.394240  10758.457460\n",
       "2732  103369.50500   94714.603779   8654.901221\n",
       "1926   93981.34377   91878.129123   2103.214647\n",
       "\n",
       "[1000 rows x 3 columns]"
      ]
     },
     "execution_count": 146,
     "metadata": {},
     "output_type": "execute_result"
    }
   ],
   "source": [
    "inference_df = pd.DataFrame({\"Actual\": y_test,\n",
    "                             \"Predictions\": y_predLR,\n",
    "                             \"Abs Error\": np.abs(y_test-y_predLR)})\n",
    "\n",
    "inference_df"
   ]
  },
  {
   "cell_type": "markdown",
   "metadata": {},
   "source": [
    "Assumptions of Linear Regression & Ridge Regression\n",
    "\n",
    "1. Linear relationship: There exists a linear relationship between the independent variable, x, and the dependent variable, y.\n",
    "\n",
    "2. Independence: The residuals are independent. In particular, there is no correlation between consecutive residuals in time series data.\n",
    "\n",
    "3. Homoscedasticity: The residuals have constant variance at every level of x.\n",
    "\n",
    "4. Normality: The residuals of the model are normally distributed."
   ]
  },
  {
   "cell_type": "markdown",
   "metadata": {},
   "source": [
    "Since few variables in the data does not follow Normal distribution. So we do not consider Linear Regression model."
   ]
  },
  {
   "cell_type": "markdown",
   "metadata": {},
   "source": [
    "# Ridge Regression"
   ]
  },
  {
   "cell_type": "markdown",
   "metadata": {},
   "source": [
    "Ridge regression is a model tuning method that is used to analyse any data that suffers from multicollinearity. This method performs L2 regularization. When the issue of multicollinearity occurs, least-squares are unbiased, and variances are large, this results in predicted values being far away from the actual values. "
   ]
  },
  {
   "cell_type": "code",
   "execution_count": 147,
   "metadata": {},
   "outputs": [],
   "source": [
    "from sklearn.linear_model import Ridge\n",
    "Rid = Ridge(alpha=2.0)\n",
    "modelR=Rid.fit(X_train, y_train)\n",
    "y_pred=modelR.predict(X_test)"
   ]
  },
  {
   "cell_type": "code",
   "execution_count": 148,
   "metadata": {},
   "outputs": [
    {
     "name": "stdout",
     "output_type": "stream",
     "text": [
      "Prediction accuracy: \n",
      " r2 score = 0.63\n"
     ]
    }
   ],
   "source": [
    "print(\"Prediction accuracy: \\n r2 score = {:.2f}\".format(r2_score(y_test, y_pred)))\n"
   ]
  },
  {
   "cell_type": "code",
   "execution_count": 149,
   "metadata": {},
   "outputs": [
    {
     "data": {
      "text/plain": [
       "0.6296260579242113"
      ]
     },
     "execution_count": 149,
     "metadata": {},
     "output_type": "execute_result"
    }
   ],
   "source": [
    "from sklearn.metrics import r2_score\n",
    "r2_score(y_test,y_pred)"
   ]
  },
  {
   "cell_type": "markdown",
   "metadata": {},
   "source": [
    "The adjusted R-squared is a modified version of R-squared that has been adjusted for the number of predictors in the model. The adjusted R-squared increases only if the new term improves the model more than would be expected by chance. It decreases when a predictor improves the model by less than expected by chance. The adjusted R-squared can be negative, but it’s usually not. It is always lower than the R-squared."
   ]
  },
  {
   "cell_type": "code",
   "execution_count": 150,
   "metadata": {},
   "outputs": [
    {
     "data": {
      "text/plain": [
       "0.6266361572818235"
      ]
     },
     "execution_count": 150,
     "metadata": {},
     "output_type": "execute_result"
    }
   ],
   "source": [
    "r2=r2_score(y_test,y_pred)\n",
    "n = len(y_pred)\n",
    "p = X_test.shape[1]\n",
    "adj_r = 1 - ((1 - r2) * (n - 1)) / (n - p - 1)\n",
    "adj_r"
   ]
  },
  {
   "cell_type": "code",
   "execution_count": 151,
   "metadata": {},
   "outputs": [
    {
     "data": {
      "text/html": [
       "<div>\n",
       "<style scoped>\n",
       "    .dataframe tbody tr th:only-of-type {\n",
       "        vertical-align: middle;\n",
       "    }\n",
       "\n",
       "    .dataframe tbody tr th {\n",
       "        vertical-align: top;\n",
       "    }\n",
       "\n",
       "    .dataframe thead th {\n",
       "        text-align: right;\n",
       "    }\n",
       "</style>\n",
       "<table border=\"1\" class=\"dataframe\">\n",
       "  <thead>\n",
       "    <tr style=\"text-align: right;\">\n",
       "      <th></th>\n",
       "      <th>Actual</th>\n",
       "      <th>Predictions</th>\n",
       "      <th>Abs Error</th>\n",
       "    </tr>\n",
       "  </thead>\n",
       "  <tbody>\n",
       "    <tr>\n",
       "      <th>1501</th>\n",
       "      <td>87840.04783</td>\n",
       "      <td>88813.242782</td>\n",
       "      <td>973.194952</td>\n",
       "    </tr>\n",
       "    <tr>\n",
       "      <th>2586</th>\n",
       "      <td>101696.94250</td>\n",
       "      <td>93007.242220</td>\n",
       "      <td>8689.700280</td>\n",
       "    </tr>\n",
       "    <tr>\n",
       "      <th>2653</th>\n",
       "      <td>102526.10000</td>\n",
       "      <td>96200.580405</td>\n",
       "      <td>6325.519595</td>\n",
       "    </tr>\n",
       "    <tr>\n",
       "      <th>1055</th>\n",
       "      <td>80952.27759</td>\n",
       "      <td>95041.412755</td>\n",
       "      <td>14089.135165</td>\n",
       "    </tr>\n",
       "    <tr>\n",
       "      <th>705</th>\n",
       "      <td>74646.47280</td>\n",
       "      <td>91003.684994</td>\n",
       "      <td>16357.212194</td>\n",
       "    </tr>\n",
       "    <tr>\n",
       "      <th>...</th>\n",
       "      <td>...</td>\n",
       "      <td>...</td>\n",
       "      <td>...</td>\n",
       "    </tr>\n",
       "    <tr>\n",
       "      <th>4711</th>\n",
       "      <td>131232.04457</td>\n",
       "      <td>132329.241102</td>\n",
       "      <td>1097.196532</td>\n",
       "    </tr>\n",
       "    <tr>\n",
       "      <th>2313</th>\n",
       "      <td>98455.87126</td>\n",
       "      <td>94231.455028</td>\n",
       "      <td>4224.416232</td>\n",
       "    </tr>\n",
       "    <tr>\n",
       "      <th>3214</th>\n",
       "      <td>109603.85170</td>\n",
       "      <td>98837.492234</td>\n",
       "      <td>10766.359466</td>\n",
       "    </tr>\n",
       "    <tr>\n",
       "      <th>2732</th>\n",
       "      <td>103369.50500</td>\n",
       "      <td>94716.922281</td>\n",
       "      <td>8652.582719</td>\n",
       "    </tr>\n",
       "    <tr>\n",
       "      <th>1926</th>\n",
       "      <td>93981.34377</td>\n",
       "      <td>91878.862277</td>\n",
       "      <td>2102.481493</td>\n",
       "    </tr>\n",
       "  </tbody>\n",
       "</table>\n",
       "<p>1000 rows × 3 columns</p>\n",
       "</div>"
      ],
      "text/plain": [
       "            Actual    Predictions     Abs Error\n",
       "1501   87840.04783   88813.242782    973.194952\n",
       "2586  101696.94250   93007.242220   8689.700280\n",
       "2653  102526.10000   96200.580405   6325.519595\n",
       "1055   80952.27759   95041.412755  14089.135165\n",
       "705    74646.47280   91003.684994  16357.212194\n",
       "...            ...            ...           ...\n",
       "4711  131232.04457  132329.241102   1097.196532\n",
       "2313   98455.87126   94231.455028   4224.416232\n",
       "3214  109603.85170   98837.492234  10766.359466\n",
       "2732  103369.50500   94716.922281   8652.582719\n",
       "1926   93981.34377   91878.862277   2102.481493\n",
       "\n",
       "[1000 rows x 3 columns]"
      ]
     },
     "execution_count": 151,
     "metadata": {},
     "output_type": "execute_result"
    }
   ],
   "source": [
    "inference_df = pd.DataFrame({\"Actual\": y_test,\n",
    "                             \"Predictions\": y_pred,\n",
    "                             \"Abs Error\": np.abs(y_test-y_pred)})\n",
    "\n",
    "inference_df"
   ]
  },
  {
   "cell_type": "code",
   "execution_count": 152,
   "metadata": {},
   "outputs": [
    {
     "data": {
      "text/plain": [
       "0.6140385590198347"
      ]
     },
     "execution_count": 152,
     "metadata": {},
     "output_type": "execute_result"
    }
   ],
   "source": [
    "#cross validation to avoid overfitting\n",
    "from sklearn.model_selection import cross_val_score\n",
    "from numpy import mean\n",
    "from numpy import std\n",
    "\n",
    "scores= cross_val_score(Rid, X_train, y_train, scoring='r2', cv=5)\n",
    "\n",
    "# report performance\n",
    "mean(scores)\n"
   ]
  },
  {
   "cell_type": "code",
   "execution_count": 153,
   "metadata": {},
   "outputs": [
    {
     "data": {
      "image/png": "[encoded data removed]",
      "text/plain": [
       "<Figure size 576x396 with 2 Axes>"
      ]
     },
     "metadata": {},
     "output_type": "display_data"
    },
    {
     "data": {
      "text/plain": [
       "<matplotlib.axes._subplots.AxesSubplot at 0x3e22f28>"
      ]
     },
     "execution_count": 153,
     "metadata": {},
     "output_type": "execute_result"
    }
   ],
   "source": [
    "#Residual plot for Ridge regression\n",
    "from yellowbrick.regressor import ResidualsPlot\n",
    "visualizer = ResidualsPlot(modelR)\n",
    "\n",
    "visualizer.fit(X_train, y_train)  # Fit the training data to the visualizer\n",
    "visualizer.score(X_test, y_test)  # Evaluate the model on the test data\n",
    "visualizer.show()   "
   ]
  },
  {
   "cell_type": "markdown",
   "metadata": {},
   "source": [
    "Here the data points are randomly distributed , so our model is good."
   ]
  },
  {
   "cell_type": "markdown",
   "metadata": {},
   "source": [
    "# Decision Tree"
   ]
  },
  {
   "cell_type": "markdown",
   "metadata": {},
   "source": [
    " Decision tree is the most powerful and popular tool for classification and prediction. A Decision tree is a flowchart like tree structure, where each internal node denotes a test on an attribute, each branch represents an outcome of the test, and each leaf node (terminal node) holds a class label. \n",
    "\n",
    " "
   ]
  },
  {
   "cell_type": "code",
   "execution_count": 169,
   "metadata": {},
   "outputs": [],
   "source": [
    "# import the regressor\n",
    "from sklearn.tree import DecisionTreeRegressor \n",
    "  \n",
    "# create a regressor object\n",
    "regressorDT = DecisionTreeRegressor(random_state = 0) \n",
    "  \n",
    "# fit the regressor with X and Y data\n",
    "regressorDT=regressorDT.fit(X_train, y_train)"
   ]
  },
  {
   "cell_type": "code",
   "execution_count": 170,
   "metadata": {},
   "outputs": [],
   "source": [
    "y_predDT=regressorDT.predict(X_test)"
   ]
  },
  {
   "cell_type": "code",
   "execution_count": 171,
   "metadata": {},
   "outputs": [
    {
     "data": {
      "text/plain": [
       "0.9998799848991639"
      ]
     },
     "execution_count": 171,
     "metadata": {},
     "output_type": "execute_result"
    }
   ],
   "source": [
    "r2_score(y_test,y_predDT)"
   ]
  },
  {
   "cell_type": "markdown",
   "metadata": {},
   "source": [
    "The adjusted R-squared is a modified version of R-squared that has been adjusted for the number of predictors in the model. The adjusted R-squared increases only if the new term improves the model more than would be expected by chance. It decreases when a predictor improves the model by less than expected by chance. The adjusted R-squared can be negative, but it’s usually not. It is always lower than the R-squared."
   ]
  },
  {
   "cell_type": "code",
   "execution_count": 157,
   "metadata": {},
   "outputs": [
    {
     "data": {
      "text/plain": [
       "0.9998790160587938"
      ]
     },
     "execution_count": 157,
     "metadata": {},
     "output_type": "execute_result"
    }
   ],
   "source": [
    "r2=r2_score(y_test,y_predDT)\n",
    "n = len(y_predDT)\n",
    "p = X_test.shape[1]\n",
    "adj_r = 1 - ((1 - r2) * (n - 1)) / (n - p - 1)\n",
    "adj_r"
   ]
  },
  {
   "cell_type": "code",
   "execution_count": 158,
   "metadata": {},
   "outputs": [
    {
     "data": {
      "text/html": [
       "<div>\n",
       "<style scoped>\n",
       "    .dataframe tbody tr th:only-of-type {\n",
       "        vertical-align: middle;\n",
       "    }\n",
       "\n",
       "    .dataframe tbody tr th {\n",
       "        vertical-align: top;\n",
       "    }\n",
       "\n",
       "    .dataframe thead th {\n",
       "        text-align: right;\n",
       "    }\n",
       "</style>\n",
       "<table border=\"1\" class=\"dataframe\">\n",
       "  <thead>\n",
       "    <tr style=\"text-align: right;\">\n",
       "      <th></th>\n",
       "      <th>Actual</th>\n",
       "      <th>Predictions</th>\n",
       "      <th>Abs Error</th>\n",
       "    </tr>\n",
       "  </thead>\n",
       "  <tbody>\n",
       "    <tr>\n",
       "      <th>1501</th>\n",
       "      <td>87840.04783</td>\n",
       "      <td>88435.58676</td>\n",
       "      <td>595.53893</td>\n",
       "    </tr>\n",
       "    <tr>\n",
       "      <th>2586</th>\n",
       "      <td>101696.94250</td>\n",
       "      <td>101901.48720</td>\n",
       "      <td>204.54470</td>\n",
       "    </tr>\n",
       "    <tr>\n",
       "      <th>2653</th>\n",
       "      <td>102526.10000</td>\n",
       "      <td>102627.71650</td>\n",
       "      <td>101.61650</td>\n",
       "    </tr>\n",
       "    <tr>\n",
       "      <th>1055</th>\n",
       "      <td>80952.27759</td>\n",
       "      <td>81057.07194</td>\n",
       "      <td>104.79435</td>\n",
       "    </tr>\n",
       "    <tr>\n",
       "      <th>705</th>\n",
       "      <td>74646.47280</td>\n",
       "      <td>74502.51541</td>\n",
       "      <td>143.95739</td>\n",
       "    </tr>\n",
       "    <tr>\n",
       "      <th>...</th>\n",
       "      <td>...</td>\n",
       "      <td>...</td>\n",
       "      <td>...</td>\n",
       "    </tr>\n",
       "    <tr>\n",
       "      <th>4711</th>\n",
       "      <td>131232.04457</td>\n",
       "      <td>131232.04457</td>\n",
       "      <td>0.00000</td>\n",
       "    </tr>\n",
       "    <tr>\n",
       "      <th>2313</th>\n",
       "      <td>98455.87126</td>\n",
       "      <td>98588.26752</td>\n",
       "      <td>132.39626</td>\n",
       "    </tr>\n",
       "    <tr>\n",
       "      <th>3214</th>\n",
       "      <td>109603.85170</td>\n",
       "      <td>109566.70880</td>\n",
       "      <td>37.14290</td>\n",
       "    </tr>\n",
       "    <tr>\n",
       "      <th>2732</th>\n",
       "      <td>103369.50500</td>\n",
       "      <td>103294.17220</td>\n",
       "      <td>75.33280</td>\n",
       "    </tr>\n",
       "    <tr>\n",
       "      <th>1926</th>\n",
       "      <td>93981.34377</td>\n",
       "      <td>94454.64047</td>\n",
       "      <td>473.29670</td>\n",
       "    </tr>\n",
       "  </tbody>\n",
       "</table>\n",
       "<p>1000 rows × 3 columns</p>\n",
       "</div>"
      ],
      "text/plain": [
       "            Actual   Predictions  Abs Error\n",
       "1501   87840.04783   88435.58676  595.53893\n",
       "2586  101696.94250  101901.48720  204.54470\n",
       "2653  102526.10000  102627.71650  101.61650\n",
       "1055   80952.27759   81057.07194  104.79435\n",
       "705    74646.47280   74502.51541  143.95739\n",
       "...            ...           ...        ...\n",
       "4711  131232.04457  131232.04457    0.00000\n",
       "2313   98455.87126   98588.26752  132.39626\n",
       "3214  109603.85170  109566.70880   37.14290\n",
       "2732  103369.50500  103294.17220   75.33280\n",
       "1926   93981.34377   94454.64047  473.29670\n",
       "\n",
       "[1000 rows x 3 columns]"
      ]
     },
     "execution_count": 158,
     "metadata": {},
     "output_type": "execute_result"
    }
   ],
   "source": [
    "inference_df = pd.DataFrame({\"Actual\": y_test,\n",
    "                             \"Predictions\": y_predDT,\n",
    "                             \"Abs Error\": np.abs(y_test-y_predDT)})\n",
    "\n",
    "inference_df"
   ]
  },
  {
   "cell_type": "code",
   "execution_count": 159,
   "metadata": {},
   "outputs": [
    {
     "data": {
      "text/plain": [
       "0.9999353137166984"
      ]
     },
     "execution_count": 159,
     "metadata": {},
     "output_type": "execute_result"
    }
   ],
   "source": [
    "#crossvalidation to avoid overfitting\n",
    "from sklearn.model_selection import cross_val_score\n",
    "from numpy import mean\n",
    "from numpy import std\n",
    "\n",
    "scores = cross_val_score(regressorDT, X_train, y_train, scoring='r2', cv=5)\n",
    "\n",
    "# report performance\n",
    "mean(scores)"
   ]
  },
  {
   "cell_type": "code",
   "execution_count": 160,
   "metadata": {},
   "outputs": [
    {
     "data": {
      "image/png": "[encoded data removed]",
      "text/plain": [
       "<Figure size 576x396 with 2 Axes>"
      ]
     },
     "metadata": {},
     "output_type": "display_data"
    },
    {
     "data": {
      "text/plain": [
       "<matplotlib.axes._subplots.AxesSubplot at 0x3de1f10>"
      ]
     },
     "execution_count": 160,
     "metadata": {},
     "output_type": "execute_result"
    }
   ],
   "source": [
    "#Residual plot for DecisionTree regression\n",
    "from yellowbrick.regressor import ResidualsPlot\n",
    "visualizer = ResidualsPlot(regressorDT)\n",
    "\n",
    "visualizer.fit(X_train, y_train)  # Fit the training data to the visualizer\n",
    "visualizer.score(X_test, y_test)  # Evaluate the model on the test data\n",
    "visualizer.show()   "
   ]
  },
  {
   "cell_type": "markdown",
   "metadata": {},
   "source": [
    "The above plot shows the above model is overfitted. The overfitting problem is occuring since the data is too small."
   ]
  },
  {
   "cell_type": "markdown",
   "metadata": {},
   "source": [
    "# Conclusion"
   ]
  },
  {
   "cell_type": "markdown",
   "metadata": {},
   "source": [
    "Age,Volume,low,Months,Education,Calls,Bonus,Unit_Price,Unit_Sales,Base_pay,Total_Sales,closingbalance are the factors which depend on Salary. There is positive correlation between Salary and Experience, but we can observe here that there are two categories of employees, who are paid max of around 200000 and employees who are paid below 80000. And Volume is Negatively correlated."
   ]
  },
  {
   "cell_type": "markdown",
   "metadata": {},
   "source": [
    "From the above three models we consider Decision Tree Regression model where the data is regularized and residuals are randomly plotted. Also multicollinearity in the data is handled well. "
   ]
  },
  {
   "cell_type": "markdown",
   "metadata": {},
   "source": [
    "HR industry can use Decision Tree Regression model which has 99% accuracy to know how salary is varying with respect to other considerable factors. With this model HR industry can predict salary for a new joiners in the company with certain experience  and also give salaries accordingly."
   ]
  },
  {
   "cell_type": "markdown",
   "metadata": {},
   "source": [
    "Saying this,if the data was larger the model score would have been better."
   ]
  },
  {
   "cell_type": "markdown",
   "metadata": {},
   "source": [
    "# Reference"
   ]
  },
  {
   "cell_type": "markdown",
   "metadata": {},
   "source": [
    "\n",
    "https://www.pluralsight.com/guides/cleaning-up-data-from-outliers\n",
    "https://www.statology.org/standardize-data-python/"
   ]
  }
 ],
 "metadata": {
  "kernelspec": {
   "display_name": "Python 3",
   "language": "python",
   "name": "python3"
  },
  "language_info": {
   "codemirror_mode": {
    "name": "ipython",
    "version": 3
   },
   "file_extension": ".py",
   "mimetype": "text/x-python",
   "name": "python",
   "nbconvert_exporter": "python",
   "pygments_lexer": "ipython3",
   "version": "3.8.3"
  }
 },
 "nbformat": 4,
 "nbformat_minor": 4
}
